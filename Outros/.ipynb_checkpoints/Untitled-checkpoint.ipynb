{
 "cells": [
  {
   "cell_type": "code",
   "execution_count": 125,
   "id": "c9fefc2d-3327-4b98-8f56-3c924bcb4726",
   "metadata": {},
   "outputs": [
    {
     "name": "stdout",
     "output_type": "stream",
     "text": [
      "[(0, 0), (1, 0), (2, 0), (3, 0), (4, 1), (5, 1), (6, 2), (7, 2), (8, 2), (9, 2), (10, 2), (11, 3), (12, 3), (13, 3), (14, 3), (15, 3), (16, 0), (17, 0), (18, 0), (19, 0), (20, 0), (21, 1), (22, 1), (23, 1), (24, 1), (25, 2), (26, 2), (27, 3), (28, 3), (29, 3), (30, 1), (31, 1), (32, 1), (33, 1), (34, 1), (35, 0), (36, 0), (37, 0), (38, 0), (39, 0)]\n"
     ]
    }
   ],
   "source": [
    "import matplotlib.pyplot as plt\n",
    "import numpy\n",
    "\n",
    "\n",
    "#abrir arquivo e criar listas\n",
    "file = open(\"saida.txt\")\n",
    "\n",
    "processo_por_tempo = [] #lista de processos ativos por tempo\n",
    "for x in file.readlines():\n",
    "    processo_por_tempo.append(int(x))\n",
    "n_processos = len(set(processo_por_tempo))\n",
    "tempos = [i for i in range(len(processo_por_tempo))]\n",
    "\n",
    "# tempo_ativo_processo = [ [] for i in range(n_processos)] #lista de tempos onde o processo esteve ativo\n",
    "# for p in range(len(processo_por_tempo)):\n",
    "#     tempo_ativo_processo[processo_por_tempo[p]].append(p)\n",
    "\n",
    "# print(tempo_ativo_processo)\n",
    "# #\n",
    "\n",
    "# y = numpy.random.randint(20,size=10)\n",
    "# # print(impar,par,y)\n",
    "# plt.eventplot(positions=tempo_ativo_processo,\n",
    "#              lineoffsets=[i for i in range(n_processos)],linewidth=[15 for i in range(n_processos)]\n",
    "#               ,linelengths=[0.4 for i in range(n_processos)]\n",
    "#              )\n",
    "# plt.show()\n",
    "pontos = [i for i in zip(tempos,processo_por_tempo)]\n",
    "\n",
    "\n"
   ]
  },
  {
   "cell_type": "code",
   "execution_count": null,
   "id": "296f0432-5e7e-4430-b6f0-bd62e04b0803",
   "metadata": {},
   "outputs": [],
   "source": []
  }
 ],
 "metadata": {
  "kernelspec": {
   "display_name": "Python 3 (ipykernel)",
   "language": "python",
   "name": "python3"
  },
  "language_info": {
   "codemirror_mode": {
    "name": "ipython",
    "version": 3
   },
   "file_extension": ".py",
   "mimetype": "text/x-python",
   "name": "python",
   "nbconvert_exporter": "python",
   "pygments_lexer": "ipython3",
   "version": "3.10.12"
  }
 },
 "nbformat": 4,
 "nbformat_minor": 5
}
