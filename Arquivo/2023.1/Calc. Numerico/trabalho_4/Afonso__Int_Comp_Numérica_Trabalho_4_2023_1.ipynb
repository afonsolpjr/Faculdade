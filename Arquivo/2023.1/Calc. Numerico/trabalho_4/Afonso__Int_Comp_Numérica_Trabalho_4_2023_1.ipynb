{
  "nbformat": 4,
  "nbformat_minor": 0,
  "metadata": {
    "colab": {
      "provenance": []
    },
    "language_info": {
      "name": "python"
    },
    "kernelspec": {
      "name": "python3",
      "display_name": "Python 3"
    },
    "gpuClass": "standard"
  },
  "cells": [
    {
      "cell_type": "markdown",
      "metadata": {
        "id": "MSRVgJX_J3Nf"
      },
      "source": [
        "#Trabalho prático # 4\n",
        "##Introdução à Computação Numérica\n",
        "\n",
        "###Tópico: Integração numérica\n",
        "\n",
        "---\n",
        "\n",
        "Nome: Afonso Lustosa Pires Junior\n",
        "\n",
        "DRE: 122079084\n",
        "\n",
        "\n",
        "---\n",
        "\n",
        "**Instruções:**\n",
        "\n",
        "**Preencha o notebook** com seus dados, seus códigos e **rode todos os códigos**\n",
        "\n",
        "**Inclua  um relatório, na parte final do notebook,** com suas conclusões, respostas, observações e comentários relacionados com os tópicos e questões abordadas nas tarefas.\n",
        "\n",
        "**A elaboração dos códigos pode ser realizada em duplas, mas o resto do trabalho é individual.**\n",
        "\n",
        "*Se você fez o seu trabalho em dupla inclua essa informação no relatório. Além disso, se você  também recebeu ajuda de um(a) colega/amigo(a) ou consultou/usou informações da internet ou outras fontes, coloque referências à elas no seu relatório.*\n",
        "\n",
        "\n",
        "**Entrega do trabalho:**\n",
        "\n",
        "*Data de entrega: 27/junho/2023*\n",
        "\n",
        "---\n"
      ]
    },
    {
      "cell_type": "markdown",
      "metadata": {
        "id": "Ud-A5dLPQsTx"
      },
      "source": [
        "## Tarefa #1\n",
        "\n",
        "Implemente funções em Python para aproximar a integral definida\n",
        "$$\n",
        "I = \\int_a^b f(x)\\,dx,\n",
        "$$\n",
        "usando:\n",
        "i) a regra dos trapézios repetida/composta;\n",
        "ii) a regra de Simpson repetida/composta.\n",
        "\n",
        "a) Considere como parâmetros de entrada o espaçamento $h$ entre os nós (pontos) que serão usados e uma lista com os valores da função nesses nós: $f_j = f(a+j\\, h)$,  $j=0,\\dots,n$.\n",
        "\n",
        "b) Considere como parâmetros de entrada o intervalo $[a, b]$, a função $f$ e a quantidade de nós (pontos) que serão usados.\n",
        "\n",
        "**Observação**: Você precisará implementar 4 funções.\n"
      ]
    },
    {
      "cell_type": "markdown",
      "source": [
        "Regra do trapézio:"
      ],
      "metadata": {
        "id": "uB5LCX0cHcrg"
      }
    },
    {
      "cell_type": "code",
      "source": [
        "import numpy\n",
        "\n",
        "def int_trapez_v1(h,f_values):  #Versão que utiliza uma lista de favores de f(x) e a variação h.\n",
        "    n = len(f_values)\n",
        "    result = h/2\n",
        "    sum = 0\n",
        "    for i in range(1,n-1):\n",
        "        sum += f_values[i]\n",
        "    result*=(f_values[0] + f_values[-1] + 2*sum)\n",
        "    return result\n",
        "\n",
        "def int_trapez_v2(func,a,b,n): #Versão que utiliza a definição da função, os limites de integração e o numero de nós.\n",
        "    x_values = numpy.linspace(a,b,n+1)\n",
        "    h = x_values[1] - x_values[0]\n",
        "    result = h/2\n",
        "\n",
        "    f_values = [ func(i) for i in x_values]\n",
        "\n",
        "    sum = 0\n",
        "    for i in range(1,n):\n",
        "        sum += f_values[i]\n",
        "    result*=(f_values[0] + f_values[-1] + 2*sum)\n",
        "    return result\n"
      ],
      "metadata": {
        "id": "LqZTSSAfHbDi"
      },
      "execution_count": null,
      "outputs": []
    },
    {
      "cell_type": "markdown",
      "source": [
        "Regra de Simpson:"
      ],
      "metadata": {
        "id": "woxtgYFaH_Oa"
      }
    },
    {
      "cell_type": "code",
      "source": [
        "def int_simpson_v1(h,f_val):   #Versão que utiliza uma lista de favores de f(x) e a variação h.\n",
        "    n = len(f_val)\n",
        "    resultado = h/3\n",
        "\n",
        "    sum = f_val[0] + f_val[-1]\n",
        "    i=1\n",
        "    if(n%2==0):\n",
        "        for i in range(1,n//2):\n",
        "            sum+=(2*f_val[2*i-1] + 4*f_val[2*i-2])\n",
        "        sum+= 4*f_val[2*i]\n",
        "    else:\n",
        "        for i in range(1,n//2):\n",
        "            sum+=(2*f_val[2*i] + 4*f_val[2*i-1])\n",
        "        i=n//2\n",
        "        sum+= 4*f_val[2*i-1]\n",
        "\n",
        "    resultado*=sum\n",
        "    return resultado\n",
        "\n",
        "def int_simpson_v2(func,a,b,n): #Versão que utiliza a definição da função, os limites de integração e o numero de nós.\n",
        "    if(n%2==1):  #n precisa ser par\n",
        "        n+=1\n",
        "\n",
        "    x_list = numpy.linspace(a,b,n+1)\n",
        "    f_val = [ func(i) for i in x_list]\n",
        "    h = x_list[1] - x_list[0]\n",
        "\n",
        "    sum = f_val[0] + f_val[-1]\n",
        "    i=1\n",
        "    for i in range(1,n//2):\n",
        "        sum+=(2*f_val[2*i] + 4*f_val[2*i-1])\n",
        "    i=n//2\n",
        "    sum+= 4*f_val[2*i-1]\n",
        "\n",
        "    resultado = sum * (h/3)\n",
        "    return resultado\n"
      ],
      "metadata": {
        "id": "tkLP1x2H5n72"
      },
      "execution_count": null,
      "outputs": []
    },
    {
      "cell_type": "markdown",
      "source": [
        "##Tarefa #2: Teste as funções implementadas\n",
        "\n",
        "a) Procure uma função $f$ que não seja um polinômio e cuja integral definida pode ser calculada analiticamente (de forma exata) no intervalo escolhido.\n",
        "\n",
        "b) Obtenha aproximações do valor da integral definida dessa função considerando $n=10$, $50$, $100$ e $200$ (note que a quantidade de nós em cada caso será igual a $n+1$). Para cada valor de $n$ obtenha aproximações usando suas implementações das regras dos trapézios e de Simpson.\n",
        "\n",
        "c) Determine os erros absolutos associados com as aproximações obtidas no item a).\n",
        "\n",
        "d) Comente e explique os resultados obtidos em b) e c)."
      ],
      "metadata": {
        "id": "Dt1t2lyEkP7Z"
      }
    },
    {
      "cell_type": "markdown",
      "source": [
        "###a)\n",
        "Seja a função $f$ = $cos^2(x)$, cuja integral será avaliada no intervalo $[0,10]$.\n",
        "A integral de $f$ será:\n",
        "  \n",
        "  $x/2 + sen(2x)/4$\n",
        "\n",
        "que avaliado para $[0,10]$ será igual a $π/2 = 5.228236312681906916566276777302846312522888183593750$ (aproximadamente)"
      ],
      "metadata": {
        "id": "s_6nedmvJoNd"
      }
    },
    {
      "cell_type": "markdown",
      "source": [
        "###b)\n"
      ],
      "metadata": {
        "id": "oVoMoO6UwgkI"
      }
    },
    {
      "cell_type": "code",
      "source": [
        "\n",
        "\n",
        "# Definição de f = cos(x)²\n",
        "def funcao(x):\n",
        "    return (math.cos(x)**2)\n",
        "\n",
        "n_list = [10,50,100,200]\n",
        "\n",
        "f_int_trapez = []\n",
        "f_int_simpson = []\n",
        "for n in n_list:   #Obtendo os valores.\n",
        "    f_int_trapez.append(int_trapez_v2(funcao,0,10,n))\n",
        "    f_int_simpson.append(int_simpson_v2(funcao,0,10,n))\n",
        "print(\"Valores para o método de Simpson, para n = 10,50,100,200\\n\",f_int_simpson)\n",
        "print(\"\\nValores para o método dos Trapézios, para n = 10,50,100,200\\n\",f_int_trapez)\n"
      ],
      "metadata": {
        "colab": {
          "base_uri": "https://localhost:8080/"
        },
        "id": "1AnNZA000OLo",
        "outputId": "6c3f4f75-c1ff-4a9f-9d3b-3d76c1c80bd0"
      },
      "execution_count": null,
      "outputs": [
        {
          "output_type": "stream",
          "name": "stdout",
          "text": [
            "Valores para o método de Simpson, para n = 10,50,100,200\n",
            " [5.265034516533649, 5.228269401808419, 5.228238351150669, 5.228236439630967]\n",
            "\n",
            "Valores para o método dos Trapézios, para n = 10,50,100,200\n",
            " [5.146548851061131, 5.225185015738544, 5.227475017297637, 5.228046084047636]\n"
          ]
        }
      ]
    },
    {
      "cell_type": "markdown",
      "source": [
        "Vemos que os valores para a Regra de Simpson foram mais precisos."
      ],
      "metadata": {
        "id": "EKTeG6Svgixs"
      }
    },
    {
      "cell_type": "markdown",
      "source": [
        "###c)\n"
      ],
      "metadata": {
        "id": "xidcg4l-1W6p"
      }
    },
    {
      "cell_type": "code",
      "source": [
        "\n",
        "ref_value = 1/4*(math.sin(20)) + 5\n",
        "\n",
        "error_trap = [ math.fabs(ref_value - value) for value in f_int_trapez]\n",
        "error_simp = [ math.fabs( ref_value - value) for value in f_int_simpson]\n",
        "\n",
        "plt.title(u\"Erro absoluto de $\\int_{0}^{\\pi} cos²(x) \\,dx$ por nº de nós utilizados e método\")\n",
        "plt.plot(n_list,error_trap,\"bo\",label=\"métod. Trap\",linestyle='dotted')\n",
        "plt.plot(n_list,error_simp,\"rv\",label=\"métod. Simpson\",linestyle='dotted')\n",
        "plt.xlabel(\"Nº de nós utilizados\")\n",
        "plt.ylabel(\"Erro absoluto\")\n",
        "plt.legend(fontsize=9)\n",
        "plt.grid()\n",
        "plt.show()"
      ],
      "metadata": {
        "colab": {
          "base_uri": "https://localhost:8080/",
          "height": 483
        },
        "id": "iyKikBN22Iaw",
        "outputId": "c4cdf0f4-5708-49e6-b7cb-5f094966aa25"
      },
      "execution_count": null,
      "outputs": [
        {
          "output_type": "display_data",
          "data": {
            "text/plain": [
              "<Figure size 640x480 with 1 Axes>"
            ],
            "image/png": "[encoded data removed]"
          },
          "metadata": {}
        }
      ]
    },
    {
      "cell_type": "markdown",
      "source": [
        "###d)\n",
        "Como vemos em sala, o erro no método dos Trapézios, relativo à $n$, é de ordem quadrática.\n",
        "Enquanto que o erro no método de Simpson relativo a $n$ é de $4ª$ ordem.\n",
        "\n",
        "Isto explica a maior precisão do método de Simpson em relação ao dos trapézios. Assim como o aumento de precisão conforme o aumento de $n$."
      ],
      "metadata": {
        "id": "ALy_dStE_J2q"
      }
    },
    {
      "cell_type": "markdown",
      "source": [
        "##Tarefa #3: Aplicação\n",
        "\n",
        "A **integral de Fresnel C(x)** é uma função definida como\n",
        "$$\n",
        "\\mathrm{C}(x) = \\int_0^x \\cos(\\pi\\,t^2/2)\\,dt.\n",
        "$$\n",
        "\n",
        "a) Faça a implementação de uma função que determine o valor aproximado de $\\mathrm{C}(x)$ para qualquer entrada $x$ com um erro absoluto menor que $10^{-8}$. Explique as ideias básicas da sua implementação no seu relatório.\n",
        "\n",
        "b) Teste a função implementada comparando com os seguintes valores*:\n",
        "\n",
        "i) $\\mathrm{C}(-2) = -0.48825340607534075450$,\n",
        "\n",
        "ii) $\\mathrm{C}(0.5) = 0.49234422587144639288$,\n",
        "\n",
        "iii) $\\mathrm{C}(1) = 0.77989340037682282947$,\n",
        "\n",
        "iv) $\\mathrm{C}(5) = 0.56363118870401223110$.\n",
        "\n",
        "*Os valores apresentados foram calculados com 16 dígitos de precisão.\n",
        "\n",
        "\n"
      ],
      "metadata": {
        "id": "ctpe52U3VFkc"
      }
    },
    {
      "cell_type": "code",
      "source": [
        "import math\n",
        "import numpy\n",
        "\n",
        "\n",
        "\n",
        "#Definindo a função interior à integral de Fresnel:\n",
        "\n",
        "def interior_fresnel(t):\n",
        "    return math.cos((t**2)*(math.pi/2))\n",
        "\n",
        "\n",
        "#Definindo a 4a derivada da função, para o calculo de M4 (na formula do erro).\n",
        "def f4_dx(x):\n",
        "    resultado = 0\n",
        "    resultado += -3*((math.pi)**2)*(math.cos((1/2)*math.pi*(x**2)))\n",
        "    resultado += 6*(math.pi**3)*(x**2)*(math.sin((1/2)*math.pi*(x**2)))\n",
        "    resultado += (math.pi**4)*(x**4)*(math.cos((1/2)*math.pi*(x**2)))\n",
        "    return resultado\n",
        "\n",
        "# Definindo  a integral de fresnel\n",
        "def fresnel(x):\n",
        "    #determinar maior valor da 4ª derivada no intervalo [0,x]\n",
        "    if(x<0):\n",
        "        x_test = numpy.linspace(x,0,1001)\n",
        "    else:\n",
        "        x_test = numpy.linspace(0,x,1001)\n",
        "\n",
        "    y_test = [ math.fabs(f4_dx(i)) for i in x_test ]\n",
        "    max_val = max(y_test)\n",
        "\n",
        "    # Determinar o melhor valor de n para erro < 10⁻⁸\n",
        "    n = math.fabs((max_val*(x**5)*(10**7))/18)**(1/4)\n",
        "    n = (int)(n//1) + 1\n",
        "\n",
        "    print(\"[Avaliando C(x) para x = {}   e   n = {}]\".format(x,n))\n",
        "    return int_simpson_v2(interior_fresnel,0,x,n**2)"
      ],
      "metadata": {
        "id": "QbG_27yyPAPj"
      },
      "execution_count": null,
      "outputs": []
    },
    {
      "cell_type": "markdown",
      "source": [
        "###b)"
      ],
      "metadata": {
        "id": "XFdbcLdEnncj"
      }
    },
    {
      "cell_type": "code",
      "source": [
        "\n",
        "\n",
        "#Determinando valores de x\n",
        "x_values = [-2,0.5,1,5]\n",
        "f_values = [fresnel(i) for i in x_values]\n",
        "#Calculando erros\n",
        "error = []\n",
        "error.append( math.fabs( -0.48825340607534075450 - f_values[0]) )\n",
        "error.append( math.fabs( 0.49234422587144639288 - f_values[1]) )\n",
        "error.append( math.fabs( 0.77989340037682282947 - f_values[2]) )\n",
        "error.append( math.fabs( 0.56363118870401223110 - f_values[3]) )\n",
        "#Plotando gráfico\n",
        "plt.title(\"Erro absoluto para C(x) para x = [-2,0.5,1,5]\")\n",
        "plt.xlabel(\"Valor de x\")\n",
        "plt.ylabel(\"Erro para C(x)\")\n",
        "plt.plot(x_values,error, \"k.\",linestyle='dotted')\n",
        "plt.show()"
      ],
      "metadata": {
        "colab": {
          "base_uri": "https://localhost:8080/",
          "height": 541
        },
        "id": "EhnIuhTsnq9L",
        "outputId": "ec29b83c-5339-448d-ce98-a86866ad3f5f"
      },
      "execution_count": null,
      "outputs": [
        {
          "output_type": "stream",
          "name": "stdout",
          "text": [
            "[Avaliando C(x) para x = -2   e   n = 407]\n",
            "[Avaliando C(x) para x = 0.5   e   n = 27]\n",
            "[Avaliando C(x) para x = 1   e   n = 101]\n",
            "[Avaliando C(x) para x = 5   e   n = 3148]\n"
          ]
        },
        {
          "output_type": "display_data",
          "data": {
            "text/plain": [
              "<Figure size 640x480 with 1 Axes>"
            ],
            "image/png": "[encoded data removed]"
          },
          "metadata": {}
        }
      ]
    },
    {
      "cell_type": "markdown",
      "source": [
        "Onde vemos todos os erros menores que $6 \\cdot 1e-14$"
      ],
      "metadata": {
        "id": "P085cf3bkiHF"
      }
    },
    {
      "cell_type": "markdown",
      "metadata": {
        "id": "isWQBJ32XORa"
      },
      "source": [
        "## Relatório\n",
        "###Tarefa 1)\n",
        "As funções que recebem a função,o intervalo da integral a ser cálculada e o número $n$, foram implementadas de forma quase idênticas à função que recebe $h$ e os dados numéricos da função. Os dados foram calculados no intervalo dado com o número de nós sendo $n+1$, e a mesma implementação da outra função foi utilizada.\n",
        "###Tarefa 3)\n",
        "\n",
        "####Item c:\n",
        "Foi utilizado a Regra de Simpson composta para o cálculo da integral.\n",
        "\n",
        "Para termos um erro $E$ menor que $10^{-8}$, foi preciso estimar um valor de $n$ tal que,  ( segundo a definição do erro $E$ na Regra de Simpson Composta) :    \n",
        "\n",
        "$\\LARGE \\frac{ M_{4}\\cdot x^{5} }{180n^{4}} < 10^{-8}$\n",
        "\n",
        "isto é:\n",
        "\n",
        "$\\LARGE \\frac{M_{4}\\cdot x^{5} \\cdot 10^{7} }{18} < n^4$\n",
        "\n",
        "logo, no código, fiz com que:\n",
        "\n",
        "$\\LARGE n = (\\frac{M_{4}\\cdot x^{5} \\cdot 10^{7} }{18})^{1/4} +1$\n",
        "\n",
        "onde\n",
        "\n",
        "$\\large M_4 = \\underset{i  \\in [0,x]}{Max}\\left |f^{(4)}(i)  \\right |$\n",
        "\n",
        "E $M_4$ foi avaliado obtendo o maximo de 1001 valores da 4ª derivada de  $\\mathrm \\cos(\\pi\\,t^2/2)$ no intervalo $[0,x]$ especificado.\n",
        "\n",
        "\n",
        "\n"
      ]
    },
    {
      "cell_type": "code",
      "source": [],
      "metadata": {
        "id": "SLlHKRnjWOWn"
      },
      "execution_count": null,
      "outputs": []
    }
  ]
}