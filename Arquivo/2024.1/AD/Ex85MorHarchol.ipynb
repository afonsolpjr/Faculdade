{
 "cells": [
  {
   "cell_type": "code",
   "execution_count": 7,
   "id": "4735d359-b165-4f42-b5e2-d3821c62c64a",
   "metadata": {},
   "outputs": [],
   "source": [
    "import numpy as np"
   ]
  },
  {
   "cell_type": "code",
   "execution_count": 165,
   "id": "a9007c63-7e85-4947-ae1c-1cef8698056b",
   "metadata": {},
   "outputs": [],
   "source": [
    "#Xna = passos de um estado q n alcança o final pra um q alcance\n",
    "#Xaf = passos de um estado q alcanca até o final:\n",
    "\n",
    "\n",
    "def Xna():\n",
    "    p = 1/7\n",
    "    v = np.random.rand()\n",
    "    return np.floor(( np.log(v)/np.log(1-p)) + 1)\n",
    "\n",
    "def Xaf():\n",
    "    u = np.random.rand()\n",
    "    if(u<=(1/2)):\n",
    "        return ( 1 + Xaf() + Xna() )\n",
    "    elif (u<=( 1/2 + 3/7 )):\n",
    "        return (1 + Xaf())\n",
    "    else:\n",
    "        return 1\n",
    "\n",
    "def Xnf():\n",
    "    return Xaf() + Xna()\n",
    "\n"
   ]
  },
  {
   "cell_type": "code",
   "execution_count": 181,
   "id": "dbe8667c-e6f0-456e-bf7b-70ac508b2621",
   "metadata": {},
   "outputs": [
    {
     "data": {
      "text/plain": [
       "4644.445988793297"
      ]
     },
     "execution_count": 181,
     "metadata": {},
     "output_type": "execute_result"
    }
   ],
   "source": [
    "test_size = 9999\n",
    "testes = [Xnf() for i in range(0,test_size)]\n",
    "np.var(testes)"
   ]
  },
  {
   "cell_type": "code",
   "execution_count": 41,
   "id": "d50f4a28-156b-45db-8c3a-92990f909740",
   "metadata": {},
   "outputs": [
    {
     "data": {
      "text/plain": [
       "-3.4261833719075634"
      ]
     },
     "execution_count": 41,
     "metadata": {},
     "output_type": "execute_result"
    }
   ],
   "source": [
    "np.log(np.random.rand())"
   ]
  }
 ],
 "metadata": {
  "kernelspec": {
   "display_name": "Python 3 (ipykernel)",
   "language": "python",
   "name": "python3"
  },
  "language_info": {
   "codemirror_mode": {
    "name": "ipython",
    "version": 3
   },
   "file_extension": ".py",
   "mimetype": "text/x-python",
   "name": "python",
   "nbconvert_exporter": "python",
   "pygments_lexer": "ipython3",
   "version": "3.12.4"
  }
 },
 "nbformat": 4,
 "nbformat_minor": 5
}
