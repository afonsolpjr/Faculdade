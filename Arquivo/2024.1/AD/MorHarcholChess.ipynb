{
 "cells": [
  {
   "cell_type": "code",
   "execution_count": 16,
   "id": "1d0b5b69-fe87-41d5-8359-9c96722a613e",
   "metadata": {},
   "outputs": [
    {
     "data": {
      "text/plain": [
       "0.09899999999999998"
      ]
     },
     "execution_count": 16,
     "metadata": {},
     "output_type": "execute_result"
    }
   ],
   "source": [
    "b = 0.001\n",
    "p = 0.9\n",
    "s = 1 - b - p"
   ]
  },
  {
   "cell_type": "code",
   "execution_count": 45,
   "id": "eeb6a1cf-8782-4fb8-9b6b-de022d1b612b",
   "metadata": {},
   "outputs": [
    {
     "data": {
      "text/plain": [
       "7146-element Vector{Float64}:\n",
       " 0.0011086460844468042\n",
       " 0.0011074156226438664\n",
       " 0.0011061865265033072\n",
       " 0.001104958794509408\n",
       " 0.001103732425148132\n",
       " 0.001102507416907124\n",
       " 0.001101283768275707\n",
       " 0.0011000614777448793\n",
       " 0.0010988405438073154\n",
       " 0.001097620964957363\n",
       " 0.0010964027396910395\n",
       " 0.0010951858665060328\n",
       " 0.0010939703439016976\n",
       " ⋮\n",
       " 0.0\n",
       " 0.0\n",
       " 0.0\n",
       " 0.0\n",
       " 0.0\n",
       " 0.0\n",
       " 0.0\n",
       " 0.0\n",
       " 0.0\n",
       " 0.0\n",
       " 0.0\n",
       " 0.0"
      ]
     },
     "execution_count": 45,
     "metadata": {},
     "output_type": "execute_result"
    }
   ],
   "source": [
    "function PIi(i)\n",
    "    return (b*(p^i))/((b+p)^(i+1))\n",
    "end\n",
    "\n",
    "\n",
    "lista = [PIi(x) for x in 1:7146]\n"
   ]
  },
  {
   "cell_type": "code",
   "execution_count": 57,
   "id": "f520e511-4413-4c6b-87ba-9283d07327ee",
   "metadata": {},
   "outputs": [
    {
     "data": {
      "text/plain": [
       "8×8 Matrix{Int64}:\n",
       "  1   2   3   4   5   6   7   8\n",
       "  9  10  11  12  13  14  15  16\n",
       " 17  18  19  20  21  22  23  24\n",
       " 25  26  27  28  29  30  31  32\n",
       " 33  34  35  36  37  38  39  40\n",
       " 41  42  43  44  45  46  47  48\n",
       " 49  50  51  52  53  54  55  56\n",
       " 57  58  59  60  61  62  63  64"
      ]
     },
     "execution_count": 57,
     "metadata": {},
     "output_type": "execute_result"
    }
   ],
   "source": [
    "tabuleiro = zeros(Int,8,8)\n",
    "c=1\n",
    "for i in 1:8\n",
    "    for j in 1:8\n",
    "        tabuleiro[i,j]=c\n",
    "        c+=1\n",
    "    end\n",
    "end\n",
    "\n",
    "tabuleiro"
   ]
  },
  {
   "cell_type": "code",
   "execution_count": 116,
   "id": "44eb502d-79c5-41d5-b763-9b8f68bdb2d5",
   "metadata": {},
   "outputs": [
    {
     "data": {
      "text/plain": [
       "64×64 Matrix{Float64}:\n",
       " 0.0        0.0714286  0.0714286  …  0.0        0.0        0.0\n",
       " 0.0714286  0.0        0.0714286     0.0        0.0        0.0\n",
       " 0.0714286  0.0714286  0.0           0.0        0.0        0.0\n",
       " 0.0714286  0.0714286  0.0714286     0.0        0.0        0.0\n",
       " 0.0714286  0.0714286  0.0714286     0.0        0.0        0.0\n",
       " 0.0714286  0.0714286  0.0714286  …  0.0714286  0.0        0.0\n",
       " 0.0714286  0.0714286  0.0714286     0.0        0.0714286  0.0\n",
       " 0.0714286  0.0714286  0.0714286     0.0        0.0        0.0714286\n",
       " 0.0714286  0.0        0.0           0.0        0.0        0.0\n",
       " 0.0        0.0714286  0.0           0.0        0.0        0.0\n",
       " 0.0        0.0        0.0714286  …  0.0        0.0        0.0\n",
       " 0.0        0.0        0.0           0.0        0.0        0.0\n",
       " 0.0        0.0        0.0           0.0        0.0        0.0\n",
       " ⋮                                ⋱                        \n",
       " 0.0        0.0        0.0           0.0        0.0        0.0\n",
       " 0.0        0.0        0.0           0.0714286  0.0        0.0\n",
       " 0.0        0.0        0.0           0.0        0.0714286  0.0\n",
       " 0.0        0.0        0.0        …  0.0        0.0        0.0714286\n",
       " 0.0714286  0.0        0.0           0.0714286  0.0714286  0.0714286\n",
       " 0.0        0.0714286  0.0           0.0714286  0.0714286  0.0714286\n",
       " 0.0        0.0        0.0714286     0.0714286  0.0714286  0.0714286\n",
       " 0.0        0.0        0.0           0.0714286  0.0714286  0.0714286\n",
       " 0.0        0.0        0.0        …  0.0714286  0.0714286  0.0714286\n",
       " 0.0        0.0        0.0           0.0        0.0714286  0.0714286\n",
       " 0.0        0.0        0.0           0.0714286  0.0        0.0714286\n",
       " 0.0        0.0        0.0           0.0714286  0.0714286  0.0"
      ]
     },
     "execution_count": 116,
     "metadata": {},
     "output_type": "execute_result"
    }
   ],
   "source": [
    "tm = zeros(64,64)\n",
    "\n",
    "p = 1/14\n",
    "\n",
    "for i in 1:64\n",
    "    #pegar linha do tabuleiro na qual está a posicao i\n",
    "    linha = tabuleiro[Int(ceil(i/8)),:]\n",
    "    c = i%8\n",
    "    if c==0\n",
    "        c = 8\n",
    "    end\n",
    "    col = tabuleiro[:,c]\n",
    "\n",
    "    #preenchendo linha\n",
    "    for j in 1:64\n",
    "        if ( (j in linha) || (j in col)) && j!=i\n",
    "            tm[i,j] = p\n",
    "        end\n",
    "    end\n",
    "    \n",
    "end\n",
    "tm"
   ]
  },
  {
   "cell_type": "code",
   "execution_count": 31,
   "id": "4cca3e6f-bf6a-416f-b83f-31fb001b2675",
   "metadata": {},
   "outputs": [
    {
     "data": {
      "text/plain": [
       "3×3 Matrix{Float64}:\n",
       " 0.189816  0.0486969  0.761487\n",
       " 0.170439  0.0437257  0.785835\n",
       " 0.0       0.0        1.0"
      ]
     },
     "execution_count": 31,
     "metadata": {},
     "output_type": "execute_result"
    }
   ],
   "source": [
    "tm = [6/7 1/7 0;\n",
    "    1/2 3/7 1/14;\n",
    "    0 0 1]\n",
    "\n",
    "tm^99"
   ]
  },
  {
   "cell_type": "code",
   "execution_count": 1,
   "id": "16a453b5-9321-4d04-850a-288d362b9a9f",
   "metadata": {},
   "outputs": [
    {
     "data": {
      "text/plain": [
       "23"
      ]
     },
     "execution_count": 1,
     "metadata": {},
     "output_type": "execute_result"
    }
   ],
   "source": [
    "x = Set(vcat([1,23],[1,2]))\n",
    "rand(x)"
   ]
  },
  {
   "cell_type": "code",
   "execution_count": 27,
   "id": "4c18ef4a-dffe-44fe-b71d-f0df1a05bdf8",
   "metadata": {},
   "outputs": [
    {
     "name": "stdout",
     "output_type": "stream",
     "text": [
      "Probabilidade de destroieres ganharem: 0.5080991735537189\n",
      "Probabilidade de encouraçados ganharem: 0.3186776859504132"
     ]
    }
   ],
   "source": [
    "#naval battle = nb\n",
    "nb = [\n",
    "    1/12 1/6 1/12 1/6 1/3 1/6 0 0 0;\n",
    "    0 1/12 1/4 0 1/6 1/2 0 0 0;\n",
    "    0 0 1 0 0 0 0 0 0;\n",
    "    0 0 0 1/6 1/6 0 1/3 1/3 0;\n",
    "    0 0 0 0 1/6 1/6 0 1/3 1/3;\n",
    "    0 0 0 0 0 1 0 0 0;\n",
    "    0 0 0 0 0 0 1 0 0;\n",
    "    0 0 0 0 0 0 0 1 0;\n",
    "    0 0 0 0 0 0 0 0 1;]\n",
    "\n",
    "\n",
    "st = nb^99999;\n",
    "\n",
    "#probabilidade de destroieres ganharem \n",
    "p = 0 \n",
    "for i in 1:9\n",
    "    if (i in [3,6])\n",
    "      p+= sum( st[1,i] )          \n",
    "    end\n",
    "end\n",
    "print(\"Probabilidade de destroieres ganharem: \", p)\n",
    "\n",
    "\n",
    "#probabilidade de encouraçados ganharem \n",
    "p = 0 \n",
    "for i in 1:9\n",
    "    if (i in [7,8])\n",
    "      p+= sum( st[1,i] )          \n",
    "    end\n",
    "end\n",
    "print(\"\\nProbabilidade de encouraçados ganharem: \", p)"
   ]
  },
  {
   "cell_type": "code",
   "execution_count": 176,
   "id": "eac2d4d2-79f7-47f6-ad06-6eafd95a70e2",
   "metadata": {},
   "outputs": [
    {
     "name": "stdout",
     "output_type": "stream",
     "text": [
      "202381.81574938082"
     ]
    },
    {
     "data": {
      "text/plain": [
       "-0.001052570444180919"
      ]
     },
     "metadata": {},
     "output_type": "display_data"
    }
   ],
   "source": [
    "function sample_point()\n",
    "    p = rand(2)\n",
    "    for i in 1:2\n",
    "        if(rand() >= 0.5)\n",
    "            p[i] *= -1\n",
    "        end\n",
    "    end\n",
    "    return p\n",
    "end\n",
    "\n",
    "function estimate_pi(epsilon,delta)\n",
    "    n = (12 * log(2/delta) / (pi * epsilon^2) ) + 1\n",
    "    print(n)\n",
    "    inside = 0;\n",
    "    for i in 1:n\n",
    "        p = sample_point()\n",
    "        if ((p' * p) <=1)\n",
    "            inside+=1\n",
    "        end\n",
    "    end\n",
    "    return 4 * (inside/n)\n",
    "end\n",
    "\n",
    "\n",
    "ep = estimate_pi(0.01,0.01)\n",
    "\n",
    "display( (ep-pi)/pi)"
   ]
  },
  {
   "cell_type": "code",
   "execution_count": 2,
   "id": "a46e2d64-b128-4be3-ae1d-a26578db159d",
   "metadata": {},
   "outputs": [
    {
     "data": {
      "text/plain": [
       "3-element Vector{Bool}:\n",
       " 0\n",
       " 0\n",
       " 0"
      ]
     },
     "metadata": {},
     "output_type": "display_data"
    },
    {
     "data": {
      "text/plain": [
       "3-element Vector{Bool}:\n",
       " 1\n",
       " 0\n",
       " 0"
      ]
     },
     "metadata": {},
     "output_type": "display_data"
    },
    {
     "data": {
      "text/plain": [
       "3-element Vector{Bool}:\n",
       " 0\n",
       " 1\n",
       " 0"
      ]
     },
     "metadata": {},
     "output_type": "display_data"
    },
    {
     "data": {
      "text/plain": [
       "3-element Vector{Bool}:\n",
       " 1\n",
       " 1\n",
       " 0"
      ]
     },
     "metadata": {},
     "output_type": "display_data"
    },
    {
     "data": {
      "text/plain": [
       "3-element Vector{Bool}:\n",
       " 0\n",
       " 0\n",
       " 1"
      ]
     },
     "metadata": {},
     "output_type": "display_data"
    },
    {
     "data": {
      "text/plain": [
       "3-element Vector{Bool}:\n",
       " 1\n",
       " 0\n",
       " 1"
      ]
     },
     "metadata": {},
     "output_type": "display_data"
    },
    {
     "data": {
      "text/plain": [
       "3-element Vector{Bool}:\n",
       " 0\n",
       " 1\n",
       " 1"
      ]
     },
     "metadata": {},
     "output_type": "display_data"
    },
    {
     "data": {
      "text/plain": [
       "3-element Vector{Bool}:\n",
       " 1\n",
       " 1\n",
       " 1"
      ]
     },
     "metadata": {},
     "output_type": "display_data"
    },
    {
     "name": "stdout",
     "output_type": "stream",
     "text": [
      "Numero de atribuicoes que satisfazem = 5\n"
     ]
    }
   ],
   "source": [
    "function setbit(x,n)\n",
    "    x |= 2^(n-1)\n",
    "    return x\n",
    "end\n",
    "\n",
    "function checkbit(N,n)\n",
    "    return (N >> (n-1)) & 1 != 0\n",
    "end\n",
    "\n",
    "function dnf_exp(v)\n",
    "    return (v[1] && v[3]) || (!(v[1]) && v[2]) || (v[2]&& !(v[3]))    \n",
    "end\n",
    "\n",
    "function dnf_test(exp,n)\n",
    "    acc = 0\n",
    "    for i in 0:(2^n - 1)\n",
    "        #create array of booleans\n",
    "        values = [checkbit(i,j) for j in 1:3]\n",
    "        display(values)\n",
    "        if(exp(values))\n",
    "            acc+=1\n",
    "        end\n",
    "    end\n",
    "    print(\"Numero de atribuicoes que satisfazem = \",acc,'\\n')\n",
    "end\n",
    "\n",
    "dnf_test(dnf_exp,3)\n"
   ]
  },
  {
   "cell_type": "code",
   "execution_count": 4,
   "id": "d067855f-8be1-40e2-80ea-efd2c119407f",
   "metadata": {},
   "outputs": [
    {
     "data": {
      "text/plain": [
       "5×5 Matrix{Float64}:\n",
       " 0.2  0.2  0.2  0.2  0.2\n",
       " 0.2  0.2  0.2  0.2  0.2\n",
       " 0.2  0.2  0.2  0.2  0.2\n",
       " 0.2  0.2  0.2  0.2  0.2\n",
       " 0.2  0.2  0.2  0.2  0.2"
      ]
     },
     "execution_count": 4,
     "metadata": {},
     "output_type": "execute_result"
    }
   ],
   "source": [
    "P = [0 1/3 0 1/3 1/3;\n",
    "    1/3 1/3 1/3 0 0;\n",
    "    0 1/3 1/3 0 1/3;\n",
    "    1/3 0 1/3 0 1/3;\n",
    "    1/3 0 0 2/3 0]\n",
    "\n",
    "P^1000"
   ]
  }
 ],
 "metadata": {
  "kernelspec": {
   "display_name": "Julia 1.9.3",
   "language": "julia",
   "name": "julia-1.9"
  },
  "language_info": {
   "file_extension": ".jl",
   "mimetype": "application/julia",
   "name": "julia",
   "version": "1.10.4"
  }
 },
 "nbformat": 4,
 "nbformat_minor": 5
}
