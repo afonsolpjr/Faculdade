{
 "cells": [
  {
   "cell_type": "code",
   "execution_count": 272,
   "id": "9c6f6b29-96d6-467d-8998-8d9e9c540e82",
   "metadata": {},
   "outputs": [],
   "source": [
    "import numpy\n",
    "import matplotlib.pyplot as plt\n",
    "import time\n",
    "rng = numpy.random.default_rng()\n"
   ]
  },
  {
   "cell_type": "code",
   "execution_count": 267,
   "id": "cddd142c-e067-4a8a-81db-871ff58dbd33",
   "metadata": {},
   "outputs": [],
   "source": [
    "#Questão 1b:\n",
    "\n",
    "def sample_generator(t,p):\n",
    "    return [(numpy.random.random() < p) for i in range(0,t)]\n",
    "\n",
    "        \n",
    "        \n",
    "\n",
    "def compute_x(sample,d):\n",
    "    x = 0\n",
    "    days_crashed = 0\n",
    "    i=0\n",
    "    while(i<len(sample)):\n",
    "        if sample[i]:\n",
    "            days_crashed+=1\n",
    "            if days_crashed>=d:\n",
    "                x+=1\n",
    "                while(i<len(sample) and sample[i]):\n",
    "                    i+=1\n",
    "                days_crashed=0\n",
    "        i+=1\n",
    "    return x\n",
    "\n",
    "def compute_mean_x(t,p,d,n_samples):\n",
    "    acc = 0\n",
    "    for i in range(0,n_samples):\n",
    "        sample = sample_generator(t,p)\n",
    "        acc += compute_x(sample,d)\n",
    "    return acc/n_samples\n",
    "        \n",
    "\n",
    "def compute_everything(d_values,p_values,n_samples,t):\n",
    "    for d in d_values:\n",
    "        for p in p_values:\n",
    "            print(\"Média de X ( {}, {} ) = {}\".format(d,p,compute_mean_x(t,p,d,n_samples)))"
   ]
  },
  {
   "cell_type": "code",
   "execution_count": 268,
   "id": "5dfcbb56-a126-4e85-949e-bbd765a685d0",
   "metadata": {},
   "outputs": [
    {
     "name": "stdout",
     "output_type": "stream",
     "text": [
      "Média de X ( 2, 0.01 ) = 1.578\n",
      "Média de X ( 2, 0.05 ) = 8.6378\n",
      "Média de X ( 2, 0.1 ) = 17.0468\n",
      "Média de X ( 2, 0.2 ) = 32.1696\n",
      "Média de X ( 2, 0.4 ) = 54.6754\n",
      "Média de X ( 3, 0.01 ) = 0.8914\n",
      "Média de X ( 3, 0.05 ) = 5.6914\n",
      "Média de X ( 3, 0.1 ) = 11.378\n",
      "Média de X ( 3, 0.2 ) = 22.2038\n",
      "Média de X ( 3, 0.4 ) = 39.5966\n",
      "Média de X ( 4, 0.01 ) = 0.524\n",
      "Média de X ( 4, 0.05 ) = 4.1492\n",
      "Média de X ( 4, 0.1 ) = 8.476\n",
      "Média de X ( 4, 0.2 ) = 16.7934\n",
      "Média de X ( 4, 0.4 ) = 31.0372\n",
      "Média de X ( 5, 0.01 ) = 0.3016\n",
      "Média de X ( 5, 0.05 ) = 3.207\n",
      "Média de X ( 5, 0.1 ) = 6.7626\n",
      "Média de X ( 5, 0.2 ) = 13.5332\n",
      "Média de X ( 5, 0.4 ) = 25.4868\n",
      "Média de X ( 10, 0.01 ) = 0.0056\n",
      "Média de X ( 10, 0.05 ) = 1.3584\n",
      "Média de X ( 10, 0.1 ) = 3.1518\n",
      "Média de X ( 10, 0.2 ) = 6.7074\n",
      "Média de X ( 10, 0.4 ) = 13.3126\n",
      "tempo decorrido:34.69079351425171\n"
     ]
    }
   ],
   "source": [
    "\n",
    "d_values = [2,3,4,5,10]\n",
    "p_values = [0.01,0.05,0.1,0.2,0.4]    \n",
    "n_samples = 5000\n",
    "t = 365\n",
    "\n",
    "\n",
    "start = time.time()\n",
    "compute_everything(d_values,p_values,n_samples,t)\n",
    "end = time.time()\n",
    "print(\"tempo decorrido:{}\".format(end-start))\n",
    "#Um lixo!"
   ]
  },
  {
   "cell_type": "code",
   "execution_count": 269,
   "id": "2ecd4141-187a-4cd7-94df-1c9f47189033",
   "metadata": {},
   "outputs": [
    {
     "name": "stdout",
     "output_type": "stream",
     "text": [
      "Média de X ( 2, 0.01 ) = 0.039800\n",
      "Média de X ( 2, 0.05 ) = 0.879800\n",
      "Média de X ( 2, 0.1 ) = 3.303400\n",
      "Média de X ( 2, 0.2 ) = 11.615400\n",
      "Média de X ( 2, 0.4 ) = 35.104800\n",
      "Média de X ( 3, 0.01 ) = 0.000200\n",
      "Média de X ( 3, 0.05 ) = 0.049000\n",
      "Média de X ( 3, 0.1 ) = 0.339600\n",
      "Média de X ( 3, 0.2 ) = 2.328000\n",
      "Média de X ( 3, 0.4 ) = 13.963400\n",
      "Média de X ( 4, 0.01 ) = 0.000000\n",
      "Média de X ( 4, 0.05 ) = 0.002000\n",
      "Média de X ( 4, 0.1 ) = 0.031200\n",
      "Média de X ( 4, 0.2 ) = 0.450400\n",
      "Média de X ( 4, 0.4 ) = 5.591200\n",
      "Média de X ( 5, 0.01 ) = 0.000000\n",
      "Média de X ( 5, 0.05 ) = 0.000000\n",
      "Média de X ( 5, 0.1 ) = 0.003000\n",
      "Média de X ( 5, 0.2 ) = 0.093200\n",
      "Média de X ( 5, 0.4 ) = 2.195000\n",
      "Média de X ( 10, 0.01 ) = 0.000000\n",
      "Média de X ( 10, 0.05 ) = 0.000000\n",
      "Média de X ( 10, 0.1 ) = 0.000000\n",
      "Média de X ( 10, 0.2 ) = 0.000200\n",
      "Média de X ( 10, 0.4 ) = 0.020200\n",
      "tempo decorrido = 29.06163215637207\n"
     ]
    }
   ],
   "source": [
    "def count_x(t,d,p):\n",
    "    days_crashed = 0\n",
    "    sequences = 0\n",
    "    day = 0\n",
    "    for i in range(0,t):\n",
    "        if(numpy.random.random() < p):\n",
    "            days_crashed+=1\n",
    "            if days_crashed==d:\n",
    "                sequences+=1\n",
    "        else:\n",
    "            days_crashed=0\n",
    "    return sequences\n",
    "                \n",
    "def mean_x(t,d,p,n_samples):\n",
    "    acc = 0\n",
    "    for i in range(0,n_samples):\n",
    "        acc += count_x(t,d,p)\n",
    "    return acc/n_samples\n",
    "start = time.time()\n",
    "for d in d_values:\n",
    "    for p in p_values:\n",
    "        print(\"Média de X ( {}, {} ) = {:.6f}\".format(d,p,mean_x(t,d,p,n_samples)))\n",
    "end = time.time()\n",
    "print(\"tempo decorrido = {}\".format(end-start))"
   ]
  },
  {
   "cell_type": "code",
   "execution_count": 270,
   "id": "c6d674b3-5b82-455d-89d7-051ac0b99d89",
   "metadata": {},
   "outputs": [
    {
     "name": "stdout",
     "output_type": "stream",
     "text": [
      "Média de X ( 2, 0.01 ) = 0.036000\n",
      "Média de X ( 2, 0.05 ) = 0.870800\n",
      "Média de X ( 2, 0.1 ) = 3.276200\n",
      "Média de X ( 2, 0.2 ) = 11.613400\n",
      "Média de X ( 2, 0.4 ) = 34.867200\n",
      "Média de X ( 3, 0.01 ) = 0.000600\n",
      "Média de X ( 3, 0.05 ) = 0.046800\n",
      "Média de X ( 3, 0.1 ) = 0.320000\n",
      "Média de X ( 3, 0.2 ) = 2.354000\n",
      "Média de X ( 3, 0.4 ) = 13.941000\n",
      "Média de X ( 4, 0.01 ) = 0.000000\n",
      "Média de X ( 4, 0.05 ) = 0.002600\n",
      "Média de X ( 4, 0.1 ) = 0.033000\n",
      "Média de X ( 4, 0.2 ) = 0.477400\n",
      "Média de X ( 4, 0.4 ) = 5.554200\n",
      "Média de X ( 5, 0.01 ) = 0.000000\n",
      "Média de X ( 5, 0.05 ) = 0.000000\n",
      "Média de X ( 5, 0.1 ) = 0.003400\n",
      "Média de X ( 5, 0.2 ) = 0.097200\n",
      "Média de X ( 5, 0.4 ) = 2.227000\n",
      "Média de X ( 10, 0.01 ) = 0.000000\n",
      "Média de X ( 10, 0.05 ) = 0.000000\n",
      "Média de X ( 10, 0.1 ) = 0.000000\n",
      "Média de X ( 10, 0.2 ) = 0.000200\n",
      "Média de X ( 10, 0.4 ) = 0.019400\n",
      "tempo decorrido = 7.243666410446167\n"
     ]
    }
   ],
   "source": [
    "def new_count_x(t,d,p):\n",
    "    days = 0\n",
    "    gone_wrong = 0 #dias que continuaram dando errado \n",
    "    x = 0\n",
    "    days = rng.geometric(p)\n",
    "    while(days<=t):\n",
    "        dtnf = rng.geometric(p) #days to next failure\n",
    "        days+=dtnf\n",
    "        if(days>=t): return x\n",
    "        if dtnf==1:\n",
    "            gone_wrong+=1\n",
    "            if gone_wrong == (d-1):\n",
    "                x+=1\n",
    "        else:\n",
    "            gone_wrong=0\n",
    "    return x\n",
    "def new_xmean(t,d,p,n_samples):\n",
    "    return sum([new_count_x(t,d,p) for i in range(0,n_samples)])/n_samples\n",
    "\n",
    "\n",
    "start = time.time()\n",
    "for d in d_values:\n",
    "    for p in p_values:\n",
    "        print(\"Média de X ( {}, {} ) = {:.6f}\".format(d,p,new_xmean(t,d,p,n_samples)))\n",
    "end = time.time()\n",
    "print(\"tempo decorrido = {}\".format(end-start))"
   ]
  },
  {
   "cell_type": "code",
   "execution_count": 378,
   "id": "c944f917-56c9-4781-b221-73da211c2505",
   "metadata": {},
   "outputs": [
    {
     "data": {
      "text/plain": [
       "1.0870067661053364"
      ]
     },
     "execution_count": 378,
     "metadata": {},
     "output_type": "execute_result"
    }
   ],
   "source": [
    "#Questao 2:\n",
    "\n",
    "def integral(n_samples):\n",
    "    c = 0\n",
    "    for i in range(0,n_samples):\n",
    "        x =  rng.random()*numpy.pi/2\n",
    "        y = rng.random()\n",
    "\n",
    "        if y<= x/numpy.tan(x):\n",
    "            c+=1\n",
    "    return (numpy.pi/2)*c/n_samples \n",
    "\n",
    "integral(100000)"
   ]
  },
  {
   "cell_type": "code",
   "execution_count": 15,
   "id": "01b9095f-7cd4-4e70-93f1-1fed51f7307b",
   "metadata": {},
   "outputs": [],
   "source": [
    "# Questão 3\n",
    "\n",
    "\n",
    "def expressao(n_variaveis,variaveis):\n",
    "\n",
    "    v = [bool((variaveis & (1 << i))) for i in range(0,n_variaveis) ]\n",
    "    return ( (v[0] and not v[1] and v[2] and v[3]) or (not v[0] and not v[1] and v[2]) or (not v[0] and not v[3]) or (v[1] and v[2] and not v[3]) or (not v[0] and v[1] and v[2]) )\n",
    "    \n",
    " # (x1 ∧ ~x2 ∧ x3 ∧ x4)  ∨ (~x1 ∧ ~x2 ∧ x3)  ∨ (~x1 ∧ ~x4) ∨ (x2 ∧ x3  ∧ ~x4) ∨ (~x1 ∧ x2 ∧ x3)"
   ]
  },
  {
   "cell_type": "code",
   "execution_count": 17,
   "id": "2e5398b1-1daf-4061-a87d-ec1205d3736f",
   "metadata": {},
   "outputs": [
    {
     "name": "stdout",
     "output_type": "stream",
     "text": [
      "Numero de atribuições que satisfazem = 8\n"
     ]
    }
   ],
   "source": [
    "true_exp = sum([(expressao(4,i)) for i in range (0,2**4)])\n",
    "print(\"Numero de atribuições que satisfazem = {}\".format(true_exp))"
   ]
  }
 ],
 "metadata": {
  "kernelspec": {
   "display_name": "Python 3 (ipykernel)",
   "language": "python",
   "name": "python3"
  },
  "language_info": {
   "codemirror_mode": {
    "name": "ipython",
    "version": 3
   },
   "file_extension": ".py",
   "mimetype": "text/x-python",
   "name": "python",
   "nbconvert_exporter": "python",
   "pygments_lexer": "ipython3",
   "version": "3.12.4"
  }
 },
 "nbformat": 4,
 "nbformat_minor": 5
}
