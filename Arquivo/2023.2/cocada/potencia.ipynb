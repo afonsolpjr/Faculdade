{
 "cells": [
  {
   "cell_type": "code",
   "execution_count": 15,
   "id": "5c4dabb7-0c49-4d9f-ac66-543610c2c9a5",
   "metadata": {},
   "outputs": [
    {
     "data": {
      "text/plain": [
       "3×3 Symmetric{Float64, Matrix{Float64}}:\n",
       " -0.364648   -0.155185    -0.0871901\n",
       " -0.155185   -0.00769301  -0.0796511\n",
       " -0.0871901  -0.0796511    0.222444"
      ]
     },
     "execution_count": 15,
     "metadata": {},
     "output_type": "execute_result"
    }
   ],
   "source": [
    "using LinearAlgebra\n",
    "A = Symmetric(randn(3,3))"
   ]
  },
  {
   "cell_type": "code",
   "execution_count": 16,
   "id": "27daa19b-a7da-4517-ac8a-bd66b1cc2905",
   "metadata": {},
   "outputs": [
    {
     "data": {
      "text/plain": [
       "Eigen{Float64, Float64, Matrix{Float64}, Vector{Float64}}\n",
       "values:\n",
       "3-element Vector{Float64}:\n",
       " -0.4408854090861307\n",
       "  0.04097401473795445\n",
       "  0.25001447503177726\n",
       "vectors:\n",
       "3×3 Matrix{Float64}:\n",
       " -0.918733   0.388152  -0.0725789\n",
       " -0.359258  -0.897905  -0.254362\n",
       " -0.1639    -0.207616   0.964382"
      ]
     },
     "metadata": {},
     "output_type": "display_data"
    },
    {
     "data": {
      "text/plain": [
       "([0.9187329270342712, 0.3592583545917469, 0.16390010201055785], -0.4408854090861315)"
      ]
     },
     "execution_count": 16,
     "metadata": {},
     "output_type": "execute_result"
    }
   ],
   "source": [
    "# Retorna autovalor e autovetor dominante\n",
    "function mp(A)\n",
    "    m,n = size(A)\n",
    "    if(m!=n)\n",
    "        print(\"Dimensoes erradas! Matriz não quadradada\")\n",
    "        return\n",
    "    end\n",
    "    v = ones(m)\n",
    "    for i in 1:60\n",
    "        v = A*v\n",
    "        v = (1/norm(v))*v\n",
    "    end\n",
    "    autovalor = (v' * (A*v) )/ (v' * v)\n",
    "    return v,autovalor\n",
    "end\n",
    "display(eigen(A))\n",
    "avt1, avl1 = mp(A)\n",
    "# B = A - autovalor*autovetor*autovetor'\n",
    "# eigen(B)"
   ]
  },
  {
   "cell_type": "code",
   "execution_count": 18,
   "id": "437a22d9-9977-4cda-b29a-86750617a6fe",
   "metadata": {},
   "outputs": [
    {
     "data": {
      "text/plain": [
       "Eigen{Float64, Float64, Matrix{Float64}, Vector{Float64}}\n",
       "values:\n",
       "3-element Vector{Float64}:\n",
       " 6.3301091289926934e-18\n",
       " 0.04097401473795423\n",
       " 0.25001447503177676\n",
       "vectors:\n",
       "3×3 Matrix{Float64}:\n",
       " 0.918733   0.388152  -0.0725789\n",
       " 0.359258  -0.897905  -0.254362\n",
       " 0.1639    -0.207616   0.964382"
      ]
     },
     "metadata": {},
     "output_type": "display_data"
    },
    {
     "data": {
      "text/plain": [
       "([-0.07257892073578862, -0.2543618980508834, 0.9643818357293859], 0.25001447503177726)"
      ]
     },
     "metadata": {},
     "output_type": "display_data"
    }
   ],
   "source": [
    "B = A - avl1*(avt1*avt1')\n",
    "display(eigen(B))\n",
    "display(mp(B))"
   ]
  },
  {
   "cell_type": "code",
   "execution_count": 116,
   "id": "1dee38ad-7b5f-448e-a8e7-408166058290",
   "metadata": {},
   "outputs": [
    {
     "data": {
      "text/plain": [
       "-2.0182929021815337"
      ]
     },
     "execution_count": 116,
     "metadata": {},
     "output_type": "execute_result"
    }
   ],
   "source": []
  }
 ],
 "metadata": {
  "kernelspec": {
   "display_name": "Julia 1.9.3",
   "language": "julia",
   "name": "julia-1.9"
  },
  "language_info": {
   "file_extension": ".jl",
   "mimetype": "application/julia",
   "name": "julia",
   "version": "1.9.3"
  }
 },
 "nbformat": 4,
 "nbformat_minor": 5
}
