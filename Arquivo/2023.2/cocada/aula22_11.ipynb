{
 "cells": [
  {
   "cell_type": "code",
   "execution_count": null,
   "id": "a224085a-f80a-4559-b4d8-9f8bc4554f52",
   "metadata": {},
   "outputs": [],
   "source": [
    "#resolvendo sistemas de gradiente descendente\n",
    "\n",
    "\n",
    "#precisa ter:\n",
    "    # uma superficie\n",
    "\n",
    "\n",
    "# 1: derivar parcialmente o modelo dado para x e y, e obter a função gradiente\n",
    "# 2: escolher um ponto aleatorio PA na superficie e andar gradiente*learning_rate.\n",
    "    # isto é, fazer um metodo iterativo PA +/- gradiente(naquele ponto)*learning_rate "
   ]
  }
 ],
 "metadata": {
  "kernelspec": {
   "display_name": "Julia 1.9.3",
   "language": "julia",
   "name": "julia-1.9"
  },
  "language_info": {
   "file_extension": ".jl",
   "mimetype": "application/julia",
   "name": "julia",
   "version": "1.9.3"
  }
 },
 "nbformat": 4,
 "nbformat_minor": 5
}
