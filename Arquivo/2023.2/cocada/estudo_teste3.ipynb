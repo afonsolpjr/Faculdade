{
 "cells": [
  {
   "cell_type": "markdown",
   "id": "2724ed83-d484-4acf-9a4d-ff3af568192f",
   "metadata": {},
   "source": [
    "Lista para o Teste 3 - Gradiente Descendente,\n",
    "Otimização e Redução de Dimensão"
   ]
  },
  {
   "cell_type": "code",
   "execution_count": 39,
   "id": "a5687c34-c869-407a-ae7e-c88ece0edb30",
   "metadata": {},
   "outputs": [
    {
     "name": "stdout",
     "output_type": "stream",
     "text": [
      "começo : 346\n",
      "0.008162979057531456"
     ]
    },
    {
     "data": {
      "text/plain": [
       "2-element Vector{Float64}:\n",
       " 0.62\n",
       " 0.86"
      ]
     },
     "execution_count": 39,
     "metadata": {},
     "output_type": "execute_result"
    }
   ],
   "source": [
    "using LinearAlgebra\n",
    "\n",
    "function desc_grad(lr,vec,grad)\n",
    "    return vec + lr*grad\n",
    "end\n",
    "\n",
    "function grad(M,c,v)\n",
    "    return M*v + c\n",
    "end\n",
    "\n",
    "\n",
    "#questão 1:\n",
    "\n",
    "function funcao(v)\n",
    "    x=v[1]\n",
    "    y=v[2]\n",
    "    return (2x+3y-5)^2 + (3x+4y-7)^2\n",
    "end\n",
    "M = [26 36;\n",
    "    36 50]\n",
    "c = -[62 ; 86]\n",
    "v = [2;4]\n",
    "print(\"começo : \",funcao(v))\n",
    "lr = -0.01\n",
    "for i in 1:1000\n",
    "    v_grad = grad(M,c,v) \n",
    "    v = desc_grad(lr,v,v_grad)\n",
    "end\n",
    "\n",
    "print(\"\\n\",funcao(v))\n",
    "grad(M,c,[0;0])*lr"
   ]
  },
  {
   "cell_type": "code",
   "execution_count": 40,
   "id": "deb35a16-6af5-4480-a041-9b0f32746d20",
   "metadata": {},
   "outputs": [
    {
     "name": "stdout",
     "output_type": "stream",
     "text": [
      "\n",
      "[0.8, 0.8]\n",
      "[0.6976, 0.7008]"
     ]
    }
   ],
   "source": [
    "#questao 2 \n",
    "function f(ponto)\n",
    "    x = ponto[1]\n",
    "    y=ponto[2]\n",
    "    return (y-1)^4 + x^2*y^2+1\n",
    "end\n",
    "p = [1;1]\n",
    "lr = 0.1\n",
    "for i in 1:2\n",
    "    x,y=p\n",
    "    vg = [ 2*x*y^2 ; 4*(y-1)^3 + 2*x^2*y]\n",
    "\n",
    "    p = p-lr*vg\n",
    "    print('\\n',p)\n",
    "end"
   ]
  },
  {
   "cell_type": "code",
   "execution_count": 41,
   "id": "3282ebca-edae-4baa-8147-066e0fba347d",
   "metadata": {},
   "outputs": [
    {
     "name": "stdout",
     "output_type": "stream",
     "text": [
      "92846\n",
      "[-0.28198200634769055, -1.1116870470844424] -3.9982625697330434"
     ]
    }
   ],
   "source": [
    "#questao 3\n",
    "#Ponto inicial e learning rate\n",
    "function f3(p)\n",
    "    x=p[1]\n",
    "    y=p[2]\n",
    "    return 3*x*x + 4*x*x + 4*x*y + 6*x + 10*y + 7\n",
    "end\n",
    "p = [121;-21]\n",
    "lr = 0.27\n",
    "print(f3(p),'\\n')\n",
    "\n",
    "M = [6 4 ; 4 8]\n",
    "c = [6 ;10]\n",
    "for i in 1:50\n",
    "    x,y=p\n",
    "    #colocar funcao do vetor gradiente abaixo\n",
    "    x = x*(1-6*lr) - 4*lr*y - 6*lr\n",
    "    y = y*(1-8*lr) - 4*lr*x -10*lr\n",
    "    \n",
    "    p = [x,y]\n",
    "end\n",
    "print(p,' ',f3(p))"
   ]
  },
  {
   "cell_type": "code",
   "execution_count": 42,
   "id": "dc3b6898-35a1-4f8c-a710-0c83932cd577",
   "metadata": {},
   "outputs": [
    {
     "name": "stdout",
     "output_type": "stream",
     "text": [
      "\n",
      "2.9999999999999982 1.5777218104420236e-30"
     ]
    }
   ],
   "source": [
    "#questao 4\n",
    "\n",
    "function f4(x)\n",
    "    return ((x-3)^2)/2\n",
    "end\n",
    "\n",
    "xi = randn()\n",
    "lr = 1.9\n",
    "for i in 1:1000\n",
    "    # print('\\n',xi)\n",
    "    xi = xi*(1-lr) + 3*lr\n",
    "    # print(xi,' ')\n",
    "end\n",
    "    print('\\n',xi,' ',f4(xi))"
   ]
  },
  {
   "cell_type": "code",
   "execution_count": 43,
   "id": "898d5eec-dc60-4bd2-ac5c-315fc2018b53",
   "metadata": {},
   "outputs": [
    {
     "data": {
      "text/plain": [
       "6.938893903907228e-18"
      ]
     },
     "execution_count": 43,
     "metadata": {},
     "output_type": "execute_result"
    }
   ],
   "source": [
    "#questao 9\n",
    "import Plots\n",
    "\n",
    "xi = [i for i in -10:10]\n",
    "yi = [0 for i in -10:10]\n",
    "for i in 1:21\n",
    "    if(xi[i]==0)\n",
    "        yi[i]=1\n",
    "    end\n",
    "end\n",
    " function vandermonde(x_values,grau)\n",
    "        l = size(x_values)[1]\n",
    "        c = grau+1\n",
    "        vandermonde = zeros(l,c)\n",
    "    \n",
    "        for i in 1:l  #para cada linha\n",
    "            for j in 1:c\n",
    "                vandermonde[i,j] = x_values[i]^(j-1)\n",
    "            end\n",
    "        end\n",
    "        return vandermonde\n",
    "    end\n",
    "\n",
    "Vand = vandermonde(xi,1)\n",
    "\n",
    "coef = Vand\\yi\n",
    "coef[1]- 1/21"
   ]
  },
  {
   "cell_type": "code",
   "execution_count": 106,
   "id": "047d03e2-7b17-4809-ad89-e0bb42349cc2",
   "metadata": {},
   "outputs": [
    {
     "data": {
      "text/plain": [
       "4×4 Matrix{Int8}:\n",
       "   2    63   93    44\n",
       "  23  -111  -34   103\n",
       " -85    17   78    30\n",
       " -40    29   76  -121"
      ]
     },
     "execution_count": 106,
     "metadata": {},
     "output_type": "execute_result"
    }
   ],
   "source": [
    "M = rand(Int8,4,4)"
   ]
  },
  {
   "cell_type": "code",
   "execution_count": 125,
   "id": "9dc127f2-136b-4fc7-bfeb-ecb16a0a01ef",
   "metadata": {},
   "outputs": [
    {
     "data": {
      "text/plain": [
       "4×4 Matrix{Float64}:\n",
       " 83.8678   -56.833   -25.6458  0.0\n",
       " 16.8838   169.509   105.179   0.0\n",
       " -5.82395  -41.3616  146.485   0.0\n",
       "  0.0        0.0       0.0     0.0"
      ]
     },
     "metadata": {},
     "output_type": "display_data"
    }
   ],
   "source": [
    "function erro(M,A)\n",
    "    return norm(M-A)\n",
    "end\n",
    "function dec_QR(A)\n",
    "    m,n = size(A)\n",
    "    R = zeros(m,n)\n",
    "    Q = zeros(m,n)\n",
    "\n",
    "    for i in 1:n\n",
    "        vetor = A[:,i]\n",
    "    \n",
    "        for j in 1:(i-1)\n",
    "            u = Q[:,j] #pega vetor já ortogonalizado 'u'\n",
    "            prod_interno = (vetor')*u #ve de quantos 'u' o 'vetor' é composto\n",
    "            R[j,i] = prod_interno #adiciona na matriz R\n",
    "            vetor-=(prod_interno * u) #cria o ortogonal a u\n",
    "        end\n",
    "        norma = norm(vetor)\n",
    "        R[i,i] = norma\n",
    "        Q[:,i] = vetor/norma\n",
    "    end\n",
    "\n",
    "    return Q,R\n",
    "end\n",
    "\n",
    "\n",
    "function als(M,rank)\n",
    "    n,m = size(M)\n",
    "    # L =  [3 ; 1 ; 2]\n",
    "    L = randn(n,rank)\n",
    "    R = 1\n",
    "    for i in 1:60\n",
    "        R = (L\\M)\n",
    "        L = (R' \\ M')'\n",
    "        # print(\"r=\",R)\n",
    "    end\n",
    "    return L,R\n",
    "end\n",
    "\n",
    "\n",
    "function mysvd(M,r)\n",
    "    B,C = als(M,r)\n",
    "    C = C'\n",
    "    Qb,Rb = dec_QR(B)\n",
    "    Qc,Rc = dec_QR(C)\n",
    "    display(Rb*Rc')\n",
    "end\n",
    "\n",
    "# B,C = als(M,3)\n",
    "# display(B*C)\n",
    "# print(erro(B*C,M))\n",
    "\n",
    "mysvd(M,3)"
   ]
  },
  {
   "cell_type": "code",
   "execution_count": 45,
   "id": "d829f186-e900-4b82-8f0b-4f7c810c5810",
   "metadata": {},
   "outputs": [
    {
     "name": "stdout",
     "output_type": "stream",
     "text": [
      "Filmes como vetores em 2d:\n"
     ]
    },
    {
     "data": {
      "text/plain": [
       "2×5 Matrix{Float64}:\n",
       "  0.27757  -0.32175   -0.0196781  -0.391239  -0.242614\n",
       " -0.59609   0.437481  -0.0827363   0.558955   0.302279"
      ]
     },
     "metadata": {},
     "output_type": "display_data"
    },
    {
     "name": "stdout",
     "output_type": "stream",
     "text": [
      "recomendacao:"
     ]
    },
    {
     "data": {
      "text/plain": [
       "2-element Vector{Float64}:\n",
       " -0.01967811134615167\n",
       " -0.08273633087611468"
      ]
     },
     "metadata": {},
     "output_type": "display_data"
    }
   ],
   "source": [
    "#questao 12\n",
    "\n",
    "UxF = [ 0.82 0.18 0.5 0.1 0.26 ;\n",
    "        0.74 0.26 0.5 0.2 0.32 ;\n",
    "       0.34 0.69 0.5 0.7 0.62 ;\n",
    "        0.58 0.42 0.5 0.4 0.44 ;\n",
    "        0.1 0.9 0.5 1 0.8]\n",
    "B,C = als(UxF,2)\n",
    "\n",
    "\n",
    "l,c = size(C)\n",
    "best = C[:,2]\n",
    "for i in 2:c\n",
    "    filme = C[:,i] \n",
    "    if( norm(C[:,1]-filme)< norm(C[:,1]-best)) \n",
    "        best = filme\n",
    "    end\n",
    "end\n",
    "\n",
    "print(\"Filmes como vetores em 2d:\\n\")\n",
    "display(C)\n",
    "\n",
    "print(\"recomendacao:\")\n",
    "display(best)\n",
    "#recomendação seria o hobbit\n"
   ]
  },
  {
   "cell_type": "code",
   "execution_count": 46,
   "id": "24c5ab0c-687d-49e4-9e2d-ff93d35dfad1",
   "metadata": {},
   "outputs": [
    {
     "data": {
      "text/plain": [
       "2×2 Matrix{Float64}:\n",
       " 2.13006   2.90462\n",
       " 0.349711  0.476879"
      ]
     },
     "execution_count": 46,
     "metadata": {},
     "output_type": "execute_result"
    }
   ],
   "source": [
    "#checando questao 13\n",
    "b = [1;1]\n",
    "A = [2 3 ; 1 0]\n",
    "\n",
    "c = b\\A\n",
    "b = (c'\\A')'\n",
    "c = b\\A\n",
    "b= (c'\\A')'\n",
    "b*c"
   ]
  },
  {
   "cell_type": "code",
   "execution_count": 47,
   "id": "546d105c-351d-46e1-8b86-0ffda67b09d1",
   "metadata": {},
   "outputs": [
    {
     "name": "stdout",
     "output_type": "stream",
     "text": [
      "160.80307185517594 na tentativa 1\n",
      "146.41741996416744 na tentativa 2\n",
      "105.74509024677386 na tentativa 5\n",
      "87.25022896364307 na tentativa 19\n",
      "80.19613857508554 na tentativa 39\n",
      "77.52889674006423 na tentativa 40\n",
      "73.09442912879744 na tentativa 60\n",
      "69.62962870971741 na tentativa 289\n",
      "48.90843092617012 na tentativa 347\n"
     ]
    },
    {
     "ename": "LoadError",
     "evalue": "InterruptException:",
     "output_type": "error",
     "traceback": [
      "InterruptException:",
      "",
      "Stacktrace:",
      " [1] Array",
      "   @ ./boot.jl:477 [inlined]",
      " [2] ormrz!(side::Char, trans::Char, A::Matrix{Float64}, tau::Vector{Float64}, C::SubArray{Float64, 2, Matrix{Float64}, Tuple{UnitRange{Int64}, Base.Slice{Base.OneTo{Int64}}}, false})",
      "   @ LinearAlgebra.LAPACK /snap/julia/86/share/julia/stdlib/v1.9/LinearAlgebra/src/lapack.jl:880",
      " [3] ldiv!(A::QRPivoted{Float64, Matrix{Float64}, Vector{Float64}, Vector{Int64}}, B::Matrix{Float64}, rcond::Float64)",
      "   @ LinearAlgebra /snap/julia/86/share/julia/stdlib/v1.9/LinearAlgebra/src/qr.jl:917",
      " [4] ldiv!",
      "   @ /snap/julia/86/share/julia/stdlib/v1.9/LinearAlgebra/src/qr.jl:923 [inlined]",
      " [5] \\(F::QRPivoted{Float64, Matrix{Float64}, Vector{Float64}, Vector{Int64}}, B::Matrix{Int8})",
      "   @ LinearAlgebra /snap/julia/86/share/julia/stdlib/v1.9/LinearAlgebra/src/LinearAlgebra.jl:536",
      " [6] \\(A::Adjoint{Float64, Matrix{Float64}}, B::Matrix{Int8})",
      "   @ LinearAlgebra /snap/julia/86/share/julia/stdlib/v1.9/LinearAlgebra/src/generic.jl:1117",
      " [7] als(M::Matrix{Int8}, rank::Int64)",
      "   @ Main ./In[44]:10",
      " [8] top-level scope",
      "   @ ./In[47]:8"
     ]
    }
   ],
   "source": [
    "#questao 14\n",
    "erro_minimo = 35^7\n",
    "\n",
    "c= 0\n",
    "while(true)\n",
    "    c+=1\n",
    "    A = rand(Int8,4,6)\n",
    "    B,C = als(A,2)\n",
    "    erro = norm( A - B*C )\n",
    "    if(erro<erro_minimo)\n",
    "        erro_minimo=erro\n",
    "        print(erro_minimo,\" na tentativa \",c,\"\\n\")\n",
    "    end\n",
    "\n",
    "    if(erro<10)\n",
    "        break\n",
    "    end\n",
    "    flush(stdout)\n",
    "end\n",
    "\n",
    "# print(\"encontrado apos tentativa \",c)\n",
    "# display(A)\n"
   ]
  },
  {
   "cell_type": "code",
   "execution_count": null,
   "id": "a7a1d281-de4c-4261-8946-d2e7af36d101",
   "metadata": {},
   "outputs": [],
   "source": []
  }
 ],
 "metadata": {
  "kernelspec": {
   "display_name": "Julia 1.9.3",
   "language": "julia",
   "name": "julia-1.9"
  },
  "language_info": {
   "file_extension": ".jl",
   "mimetype": "application/julia",
   "name": "julia",
   "version": "1.9.3"
  }
 },
 "nbformat": 4,
 "nbformat_minor": 5
}
