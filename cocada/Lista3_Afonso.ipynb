{
 "cells": [
  {
   "cell_type": "code",
   "execution_count": 1,
   "id": "eacdc6fa-0ca3-42dc-81cd-d4baa90ec7ba",
   "metadata": {},
   "outputs": [],
   "source": [
    "using LinearAlgebra\n",
    "using Plots"
   ]
  },
  {
   "attachments": {
    "10305173-b56b-45e0-b729-ce9a24763de5.png": {
     "image/png": "[encoded data removed]"
    },
    "38cbf9af-e444-4132-9048-d33ef5d8be31.png": {
     "image/png": "[encoded data removed]"
    }
   },
   "cell_type": "markdown",
   "id": "783bbf68-0cf3-468c-8dc5-249c7d488651",
   "metadata": {},
   "source": [
    "# Questão 1 do Lab\n",
    "\n",
    " Manipulando algebraicamente a expressão dada no site \n",
    " http://www.if.ufrgs.br/tex/fis01043/20011/Adriano/intro.html,\n",
    " de modo que ela se assemelhe a um sistema linear,\n",
    " chegamos à seguinte expressão:\n",
    "\n",
    "     t é o tempo decorrido\n",
    "     Tf é a temperatura final\n",
    "     T0 é a temperatura inicial\n",
    "     k é a uma constante a ser determinada\n",
    "     \n",
    "\n",
    "![image.png](attachment:10305173-b56b-45e0-b729-ce9a24763de5.png)\n",
    "\n",
    "\n",
    "Chamando **-k** de **c**, e obtendo os valores de **Tf e T0**, podemos montar dois vetores:\n",
    "\n",
    "    - O primeiro será \"t\", com os valores das horas em que foram realizadas medições de temperatura\n",
    "    - O segundo será \"b\", com valores do lado direito da expressão dada para cada valor de temperatura medido\n",
    "\n",
    "\n",
    "Assim, com esses vetores, poderemos montar um sistema linear tal que **tc=b**:\n",
    "\n",
    "\n",
    "E então,usando o contrabarra como método de regressão, iremos achar o valor de **c**.\n",
    "Em seguida, precisamos então ver qual valor de **t** satisfará a seguinte expressão, correspondente à temperatura de **37** graus no sistema:\n",
    "\n",
    "![image.png](attachment:38cbf9af-e444-4132-9048-d33ef5d8be31.png)\n",
    "    "
   ]
  },
  {
   "cell_type": "code",
   "execution_count": 2,
   "id": "ce407261-939a-4d45-9ad6-4448d8afd122",
   "metadata": {},
   "outputs": [
    {
     "name": "stdout",
     "output_type": "stream",
     "text": [
      "\n",
      "O crime ocorreu a -32.162190991084906 minutos antes da chegada dos investigadores.\n",
      "Isto é, aproximadamente às 14h27"
     ]
    }
   ],
   "source": [
    "#Questão 1 do Lab\n",
    "function f_log(T,T0,Tf)\n",
    "    return log((T-Tf)/(T0-Tf))\n",
    "end\n",
    "#Determinando valores iniciais\n",
    "T = [ 34,30,25 ]\n",
    "T0 = 34\n",
    "Tf = 20\n",
    "b = [ f_log(i,T0,Tf) for i in T ] \n",
    "t = [0,1.5,2.5]\n",
    "# Dado que At=b, para acharmos A:\n",
    "c = t\\b\n",
    "resultado = c\\(f_log(37,T0,Tf))\n",
    "\n",
    "print(\"\\nO crime ocorreu a \",resultado*60,\" minutos antes da chegada dos investigadores.\\n\",\n",
    "        \"Isto é, aproximadamente às 14h\", Int(trunc(60 + resultado*60)))\n"
   ]
  },
  {
   "cell_type": "code",
   "execution_count": 3,
   "id": "1d528ab3-5362-4ea7-bd54-71daa497765f",
   "metadata": {},
   "outputs": [],
   "source": [
    "\n",
    "# Gerando aleatoriamente um polinomio de grau 5 com coeficientes inteiros entre -100 e 100.\n",
    "\n",
    "coef = [ rand(-100:100) for i in 1:6 ]\n",
    "\n",
    "#gerando 30 valores aleatorios de x entre -10 e 10\n",
    "x_values = [ (rand() * 10 * ((-1)^rand([1,2]) )) for i in 1:30]\n",
    "x_values = sort(x_values)\n",
    "nothing"
   ]
  },
  {
   "cell_type": "code",
   "execution_count": 30,
   "id": "25aba6f1-db55-4422-ad03-aab11ee743fa",
   "metadata": {},
   "outputs": [
    {
     "data": {
      "text/plain": [
       "30-element Vector{Float64}:\n",
       "       4.437414096108969e6\n",
       "       3.017218467780302e6\n",
       "       1.9355410881182472e6\n",
       "  481483.3577542046\n",
       "  190021.43596358737\n",
       "  137351.95482208353\n",
       "   99743.28224598416\n",
       "   89976.37350139122\n",
       "   28326.935612778172\n",
       "   21896.66112379728\n",
       "    8261.648402659259\n",
       "     -21.36031508211658\n",
       "     -30.198399497132023\n",
       "       ⋮\n",
       " -125185.67960719539\n",
       " -330590.9939545631\n",
       " -338011.30187420314\n",
       " -393716.8356428919\n",
       " -693177.1762348468\n",
       " -816692.1423152974\n",
       " -952683.6442371056\n",
       "      -1.2854818111561858e6\n",
       "      -2.265866069859702e6\n",
       "      -2.3976757740234123e6\n",
       "      -3.8333719730733475e6\n",
       "      -4.314469990967041e6"
      ]
     },
     "execution_count": 30,
     "metadata": {},
     "output_type": "execute_result"
    }
   ],
   "source": [
    "#Questão 2 do lab\n",
    "\n",
    "\n",
    "\n",
    "#  Funçao recebe x e o valor dos coeficientes\n",
    "function pol_5(x,coeficientes)\n",
    "    xs= [ x^i for i in 0:5 ]\n",
    "    return xs'*coeficientes\n",
    "end\n",
    "\n",
    "# # Gerando aleatoriamente um polinomio de grau 5 com coeficientes inteiros entre -100 e 100.\n",
    "\n",
    "# coef = [ rand(-100:100) for i in 1:6 ]\n",
    "\n",
    "# #gerando 30 valores aleatorios de x entre -10 e 10\n",
    "# x_values = [ (rand() * 10 * ((-1)^rand([1,2]) )) for i in 1:30]\n",
    "\n",
    "# gerando os 30 pontos (x,y)\n",
    "y_values = [ pol_5(x,coef) for x in x_values ]\n",
    "\n",
    "# Fazendo função que monta a matriz de Vandermonde para x e o grau dado.\n",
    "\n",
    "function vandermonde(x_values,grau)\n",
    "    l = size(x_values)[1]\n",
    "    c = grau+1\n",
    "    vandermonde = zeros(l,c)\n",
    "\n",
    "    for i in 1:l  #para cada linha\n",
    "        for j in 1:c\n",
    "            vandermonde[i,j] = x_values[i]^(j-1)\n",
    "        end\n",
    "    end\n",
    "    return vandermonde\n",
    "end\n",
    "\n",
    "\n",
    "plot(x_values,y_values,label=:\"Polinômio\")\n",
    "\n",
    "# Funcao retorna os valores de y para a regressao polinomial do grau dado, e os coeficientes.\n",
    "\n",
    "function reg_pol(grau,x_values,y_values)     \n",
    "# Regressão linear consiste em achar os (grau+1) coeficientes para os valores de x e y dado.\n",
    "# Para isso, precisamos de uma matriz de vandermond para os n valores de x com (grau+1) elementos em cada linha\n",
    "    V = vandermonde(x_values,grau)\n",
    "    coef = V\\y_values\n",
    "    result = [V*coef,coef]\n",
    "    return result\n",
    "end\n",
    "\n",
    "\n",
    "\n",
    "\n",
    "# vendo se ele acerta os coeficientes para o caso do grau 5\n",
    "# display(reg_pol(5,x_values,y_values)[2])\n",
    "# display(coef)\n",
    "#calculando os valores de y para a regressao de um polinomio de grau 0:29\n",
    "y_regvalues = []\n",
    "for i in 0:29\n",
    "    push!(y_regvalues,reg_pol(i,x_values,y_values)[1])\n",
    "end\n",
    "\n",
    "plot(x_values,y_values,label=\"Polinomio original\")\n",
    "plot!(x_values,y_regvalues[6],label=\"regressao\")\n",
    "reg_pol(29,x_values,y_values)[1]\n"
   ]
  },
  {
   "cell_type": "code",
   "execution_count": null,
   "id": "6d19b5cc-0756-43ad-9624-22247368729b",
   "metadata": {},
   "outputs": [],
   "source": []
  }
 ],
 "metadata": {
  "kernelspec": {
   "display_name": "Julia 1.9.3",
   "language": "julia",
   "name": "julia-1.9"
  },
  "language_info": {
   "file_extension": ".jl",
   "mimetype": "application/julia",
   "name": "julia",
   "version": "1.9.3"
  }
 },
 "nbformat": 4,
 "nbformat_minor": 5
}
