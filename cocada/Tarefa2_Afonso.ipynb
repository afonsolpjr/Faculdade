{
 "cells": [
  {
   "cell_type": "code",
   "execution_count": 103,
   "id": "3e5182fd-01fa-4406-823a-6c28ba46dc4e",
   "metadata": {},
   "outputs": [
    {
     "name": "stdout",
     "output_type": "stream",
     "text": [
      "Tabela de distâncias entre usuários e filmes\n",
      "USUARIO|     Titanic |      Rocky    |     Hobbit    |   FIght Club    | Jurassic Park|\n",
      "     A | [0.0, 1.1313708498984762, 0.5656854249492381, 1.2727922061357855, 0.9899494936611666]\n",
      "     B | [0.1414213562373095, 0.9899494936611666, 0.42426406871192857, 1.1313708498984762, 0.8485281374238571]\n",
      "     C | [0.8485281374238571, 0.28284271247461906, 0.282842712474619, 0.42426406871192857, 0.14142135623730953]\n",
      "     D | [0.42426406871192857, 0.7071067811865476, 0.14142135623730948, 0.848528137423857, 0.565685424949238]\n",
      "     E | [1.2727922061357855, 0.1414213562373095, 0.7071067811865476, 0.0, 0.282842712474619]\n",
      "\n",
      "\n",
      "\n",
      "Vemos que o menor valor da distância é entre os usuários A e B!\n"
     ]
    },
    {
     "data": {
      "text/plain": [
       "5×5 Matrix{Float64}:\n",
       " 0.0       0.141421  0.848528  0.424264  1.27279\n",
       " 0.141421  0.0       0.707107  0.282843  1.13137\n",
       " 0.848528  0.707107  0.0       0.424264  0.424264\n",
       " 0.424264  0.282843  0.424264  0.0       0.848528\n",
       " 1.27279   1.13137   0.424264  0.848528  0.0"
      ]
     },
     "execution_count": 103,
     "metadata": {},
     "output_type": "execute_result"
    }
   ],
   "source": [
    "using LinearAlgebra\n",
    "\n",
    "##EXERCICIO 1\n",
    "#Matriz de usuários:\n",
    "usuarios = [ 0.9 0.1\n",
    "            0.8 0.2\n",
    "            0.3 0.7\n",
    "            0.6 0.4\n",
    "            0 1]\n",
    "\n",
    "#matriz de filmes\n",
    "filmes = [ 0.9 0.1\n",
    "        0.1 0.9\n",
    "        0.5 0.5\n",
    "        0 1\n",
    "        0.2 0.8]\n",
    "\n",
    "# Não entendi muito bem o significado de uma tabela usuários x filmes.\n",
    "# Criei então uma tabela com distância entre as preferências de cada usuário e as classificações dos filmes.\n",
    "# Logo, quanto menor o valor, mais indicado é o filme para o usuário\n",
    "tabela = zeros(5,5)\n",
    "for j in range(1,5)\n",
    "    for k in range(1,5)\n",
    "        tabela[j,k] = sqrt((usuarios[j,1] - filmes[k,1])^2 + (usuarios[j,2] - filmes[k,2])^2)\n",
    "    end \n",
    "end\n",
    "println(\"Tabela de distâncias entre usuários e filmes\")\n",
    "println(\"USUARIO|     Titanic |      Rocky    |     Hobbit    |   FIght Club    | Jurassic Park|\")\n",
    "char = 'A' -1\n",
    "for i in range(1,5)\n",
    "    println(\"     \", char+i,\" | \",tabela[i,1:5])\n",
    "end\n",
    "println(\"\\n\\n\")\n",
    "#Calculando distancias entre as preferencias de cada usuário\n",
    "\n",
    "dist_usuario = zeros(5,5)\n",
    "for i in range(1,5)\n",
    "    for j in range(1,5)\n",
    "        dist_usuario[i,j] = sqrt((usuarios[i,1]-usuarios[j,1])^2 + (usuarios[i,2]-usuarios[j,2])^2) \n",
    "    end\n",
    "end\n",
    "println(\"Vemos que o menor valor da distância é entre os usuários A e B!\")\n",
    "dist_usuario"
   ]
  },
  {
   "cell_type": "code",
   "execution_count": 104,
   "id": "ad56ed5f-0df4-4779-9435-b8a2464cb90f",
   "metadata": {},
   "outputs": [],
   "source": [
    "#EXERCICIO 2\n",
    "\n",
    "\n",
    "# a) Significa que eles não possuem nenhum sintoma em comum.\n",
    "\n",
    "# b) Significa que nenhum paciente teve os 2 sintomas em questão ao mesmo tempo.\n",
    "\n",
    "# c) Significa que os dois pacientes tiveram os mesmos sintomas, ou não tiveram nenhum.\n",
    "\n",
    "# d) Significa os dois sintomas sempre se manifestaram conjuntamente nos pacientes."
   ]
  },
  {
   "cell_type": "code",
   "execution_count": null,
   "id": "9f1a309c-7f78-4913-a92d-0e978b9abcfb",
   "metadata": {},
   "outputs": [],
   "source": []
  },
  {
   "cell_type": "code",
   "execution_count": 360,
   "id": "6727d609-36bd-4b4b-aa18-17db51739c11",
   "metadata": {},
   "outputs": [
    {
     "data": {
      "text/plain": [
       "subs_reversa (generic function with 1 method)"
      ]
     },
     "execution_count": 360,
     "metadata": {},
     "output_type": "execute_result"
    }
   ],
   "source": [
    "function subs_reversa(U,b)\n",
    "    m,n = size(U)\n",
    "    x = ones(m)\n",
    "    #Calculando primeiro valor\n",
    "    if U[m,n] != 0\n",
    "        x[m] = b[m]/U[m,n]\n",
    "    end\n",
    "    # Matriz que substitui valores já encontrados \n",
    "    x_matrix = Diagonal(x)\n",
    "    for i in reverse(1:(m-1))\n",
    "        #Calculando coluna atual\n",
    "        coluna = n - (m-i)\n",
    "        #Substituindo valores da linha atual (i) pelos já existentes no vetor x\n",
    "        U[i,1:n] = x_matrix*U[i,1:n]\n",
    "        # println(\"que virou: \",U[i,1:n])\n",
    "        #Resolvendo a equacao da linha U[i] = b[i]\n",
    "        j = n\n",
    "        while j > coluna\n",
    "            b[i] -= U[i,j]\n",
    "            j-=1\n",
    "        end\n",
    "        if U[i,coluna] != 0\n",
    "            x[i] = b[i]/U[i,coluna]\n",
    "        end\n",
    "        x_matrix = Diagonal(x)\n",
    "    \n",
    "    end\n",
    "    return x\n",
    "end"
   ]
  },
  {
   "cell_type": "code",
   "execution_count": null,
   "id": "6bc63a63-5889-4d40-a1c6-70a113fcedcd",
   "metadata": {},
   "outputs": [],
   "source": []
  }
 ],
 "metadata": {
  "kernelspec": {
   "display_name": "Julia 1.9.2",
   "language": "julia",
   "name": "julia-1.9"
  },
  "language_info": {
   "file_extension": ".jl",
   "mimetype": "application/julia",
   "name": "julia",
   "version": "1.9.2"
  }
 },
 "nbformat": 4,
 "nbformat_minor": 5
}
