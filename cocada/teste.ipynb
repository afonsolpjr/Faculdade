{
 "cells": [
  {
   "cell_type": "code",
   "execution_count": 36,
   "id": "cd0c6f84-b8a6-4036-b1b2-59b1f197cea9",
   "metadata": {},
   "outputs": [
    {
     "data": {
      "text/plain": [
       "3-element Vector{Float64}:\n",
       "  1.0\n",
       " -2.0\n",
       "  1.0"
      ]
     },
     "metadata": {},
     "output_type": "display_data"
    },
    {
     "data": {
      "text/plain": [
       "3-element Vector{Float64}:\n",
       "  0.6666666666666666\n",
       " -1.3333333333333333\n",
       "  1.0"
      ]
     },
     "execution_count": 36,
     "metadata": {},
     "output_type": "execute_result"
    }
   ],
   "source": [
    "l = [ 1 0 0\n",
    "    2 1 0\n",
    "    3 4 5]\n",
    "u=[ 2 1 1\n",
    "    0 3 2\n",
    "    0 0 1]\n",
    "A = l*u\n",
    "e1 = [ 1,0,0]\n",
    "y = l\\e1\n",
    "display(y)\n",
    "x = u\\y"
   ]
  },
  {
   "cell_type": "code",
   "execution_count": 44,
   "id": "1137d2d7-ae7e-4714-8257-aacfc968e22c",
   "metadata": {},
   "outputs": [
    {
     "data": {
      "text/plain": [
       "0.6666666666666666"
      ]
     },
     "execution_count": 44,
     "metadata": {},
     "output_type": "execute_result"
    }
   ],
   "source": [
    "\n",
    "2/3"
   ]
  },
  {
   "cell_type": "code",
   "execution_count": 42,
   "id": "08b596a3-4a6b-4812-a2ef-7a6aa5c95402",
   "metadata": {},
   "outputs": [
    {
     "data": {
      "text/plain": [
       "1.333333333333333"
      ]
     },
     "execution_count": 42,
     "metadata": {},
     "output_type": "execute_result"
    }
   ],
   "source": [
    "1 +4/3 -1"
   ]
  },
  {
   "cell_type": "code",
   "execution_count": null,
   "id": "3fdd6089-5497-4ac5-9052-aba8f13df3ec",
   "metadata": {},
   "outputs": [],
   "source": []
  }
 ],
 "metadata": {
  "kernelspec": {
   "display_name": "Julia 1.9.2",
   "language": "julia",
   "name": "julia-1.9"
  },
  "language_info": {
   "file_extension": ".jl",
   "mimetype": "application/julia",
   "name": "julia",
   "version": "1.9.2"
  }
 },
 "nbformat": 4,
 "nbformat_minor": 5
}
