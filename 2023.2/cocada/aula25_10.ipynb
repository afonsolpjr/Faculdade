{
 "cells": [
  {
   "cell_type": "markdown",
   "id": "2637e260-ed9e-41ad-bd74-1b4318275cb1",
   "metadata": {},
   "source": [
    "## Exercicio 29 lista\n",
    "\n",
    "Determinar formula fechada para (A^k)*x, que será:\n",
    "+ c1 . y1^k . w1 + c2 .  y2^k . w2,         onde:\n",
    "    + (c1 . w1) + (c2 . w2 ) é o vetor x como combinação linear dos autovetores de A\n",
    "\n",
    "para determinar a \"convergência\" do sistema, verificar qual é o autovetor associado ao maior autovalor"
   ]
  },
  {
   "cell_type": "code",
   "execution_count": 1,
   "id": "607180ce-9ac2-46bf-990a-d34a81bce815",
   "metadata": {},
   "outputs": [
    {
     "data": {
      "text/plain": [
       "Eigen{Float64, Float64, Matrix{Float64}, Vector{Float64}}\n",
       "values:\n",
       "2-element Vector{Float64}:\n",
       " 1.0\n",
       " 3.0\n",
       "vectors:\n",
       "2×2 Matrix{Float64}:\n",
       " -0.707107  0.707107\n",
       "  0.707107  0.707107"
      ]
     },
     "execution_count": 1,
     "metadata": {},
     "output_type": "execute_result"
    }
   ],
   "source": [
    "using LinearAlgebra\n",
    "#exercicio 29 da lista\n",
    "\n",
    "A = [ 2 1 ;\n",
    "    1 2]\n",
    "# para onde A se estabiliza?\n",
    "aval,avet = eigen(A)\n",
    "\n",
    "\n",
    "#formula para determinar (A^k)*x a partir da decomposicao de x na base dos autovalores de A, que será\n",
    "\n"
   ]
  },
  {
   "cell_type": "markdown",
   "id": "4ae7e15d-603e-4fea-8b1f-90365417665c",
   "metadata": {},
   "source": [
    "## Exercício #28 da lista\n",
    "Dado A, note que o vetor dado é um autovetor dela (que é o resultado da potencia)\n",
    "> Note: este autovetor é o autovetor associado ao maior autovalor de A, que pelas contas é 5.\n",
    "\n",
    "\n",
    "\n",
    "determinar um autovalor da **inversa** de (A -2I).\n",
    "\n",
    "Dicas:\n",
    "+ Existe uma relação entre os autovetores/valores de uma matriz e da inversa dela.\n",
    "  >  Os autovetores se preservam entre uma matriz e sua inversa.\n",
    "  > E os autovalores são os inversos um do outro, para os mesmos autovetores.\n",
    "  > \n",
    "  > Para um autovetor w1 associado a y1, na inversa da matriz de w1,  seu autovalor será 1/y1\n",
    "    + Note que, como eles se invertem, o maior autovalor de uma matriz se torna o menor da sua inversa.\n",
    "\n",
    "materia dada a partir da mesma questão:\n",
    "+ A partir de uma matriz **SIMETRICA** dada **A**, podemos achar o autovetor associado ao maior autovalor dela. E poderiamos achar o outro também! É só, a partir do autovetor/valor v1/y1 dado, você achar os autovalores da Matriz  A - (y1 . v1*v1') "
   ]
  },
  {
   "cell_type": "code",
   "execution_count": 15,
   "id": "bc66f829-da25-4261-8b44-057c1e0187c0",
   "metadata": {},
   "outputs": [
    {
     "data": {
      "text/plain": [
       "3-element Vector{Float64}:\n",
       " -4.00000000000001\n",
       "  3.000000000000004\n",
       "  4.999999999999993"
      ]
     },
     "metadata": {},
     "output_type": "display_data"
    },
    {
     "data": {
      "text/plain": [
       "Eigen{Float64, Float64, Matrix{Float64}, Vector{Float64}}\n",
       "values:\n",
       "3-element Vector{Float64}:\n",
       " -0.1666666666666653\n",
       "  0.33333333333333337\n",
       "  0.9999999999999948\n",
       "vectors:\n",
       "3×3 Matrix{Float64}:\n",
       " -0.333333   0.212      0.0\n",
       "  0.666667  -0.635999  -0.707107\n",
       " -0.666667   0.741999   0.707107"
      ]
     },
     "execution_count": 15,
     "metadata": {},
     "output_type": "execute_result"
    }
   ],
   "source": [
    "A = [-4 18 18;\n",
    "    14 -37 -40;\n",
    "    -14 42 45]\n",
    "id2 = 2*Matrix(I,3,3)\n",
    "aval,avet = eigen(A)\n",
    "display(aval)\n",
    "\n",
    "eigen(inv(A-id2))"
   ]
  },
  {
   "cell_type": "markdown",
   "id": "2370dfb5-86bb-4136-8db5-cfce55b11f89",
   "metadata": {},
   "source": [
    "Pesquisar:\n",
    "+ Metodo da potencia para matrizes simétricas com shift\n"
   ]
  },
  {
   "cell_type": "markdown",
   "id": "0257faf0-4508-4000-83fb-929579e2d013",
   "metadata": {},
   "source": [
    "## Exercicio 27 da lista\n",
    "\n",
    "Resolver usando sistemas lineares dinâmicos para recorrências e usando a fórmula fechada para o método da potência\n"
   ]
  }
 ],
 "metadata": {
  "kernelspec": {
   "display_name": "Julia 1.9.3",
   "language": "julia",
   "name": "julia-1.9"
  },
  "language_info": {
   "file_extension": ".jl",
   "mimetype": "application/julia",
   "name": "julia",
   "version": "1.9.3"
  }
 },
 "nbformat": 4,
 "nbformat_minor": 5
}
