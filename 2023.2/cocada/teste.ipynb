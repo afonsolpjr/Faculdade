{
 "cells": [
  {
   "cell_type": "code",
   "execution_count": 36,
   "id": "cd0c6f84-b8a6-4036-b1b2-59b1f197cea9",
   "metadata": {},
   "outputs": [
    {
     "data": {
      "text/plain": [
       "3-element Vector{Float64}:\n",
       "  1.0\n",
       " -2.0\n",
       "  1.0"
      ]
     },
     "metadata": {},
     "output_type": "display_data"
    },
    {
     "data": {
      "text/plain": [
       "3-element Vector{Float64}:\n",
       "  0.6666666666666666\n",
       " -1.3333333333333333\n",
       "  1.0"
      ]
     },
     "execution_count": 36,
     "metadata": {},
     "output_type": "execute_result"
    }
   ],
   "source": [
    "l = [ 1 0 0\n",
    "    2 1 0\n",
    "    3 4 5]\n",
    "u=[ 2 1 1\n",
    "    0 3 2\n",
    "    0 0 1]\n",
    "A = l*u\n",
    "e1 = [ 1,0,0]\n",
    "y = l\\e1\n",
    "display(y)\n",
    "x = u\\y"
   ]
  },
  {
   "cell_type": "code",
   "execution_count": 1,
   "id": "1137d2d7-ae7e-4714-8257-aacfc968e22c",
   "metadata": {},
   "outputs": [
    {
     "data": {
      "text/plain": [
       "0-dimensional Array{Int64, 0}:\n",
       "0"
      ]
     },
     "execution_count": 1,
     "metadata": {},
     "output_type": "execute_result"
    }
   ],
   "source": [
    "[i for i in rand(-2:3)]"
   ]
  },
  {
   "cell_type": "code",
   "execution_count": 42,
   "id": "08b596a3-4a6b-4812-a2ef-7a6aa5c95402",
   "metadata": {},
   "outputs": [
    {
     "data": {
      "text/plain": [
       "1.333333333333333"
      ]
     },
     "execution_count": 42,
     "metadata": {},
     "output_type": "execute_result"
    }
   ],
   "source": [
    "1 +4/3 -1"
   ]
  },
  {
   "cell_type": "code",
   "execution_count": 1,
   "id": "3fdd6089-5497-4ac5-9052-aba8f13df3ec",
   "metadata": {},
   "outputs": [
    {
     "data": {
      "text/plain": [
       "1-element Vector{Base.Generator{UnitRange{Int64}, var\"#3#4\"}}:\n",
       " Base.Generator{UnitRange{Int64}, var\"#3#4\"}(var\"#3#4\"(), 1:10)"
      ]
     },
     "execution_count": 1,
     "metadata": {},
     "output_type": "execute_result"
    }
   ],
   "source": [
    "[(rand(-10:10) for i in 1:10)]"
   ]
  },
  {
   "cell_type": "code",
   "execution_count": 50,
   "id": "cb596773-cbe4-4277-9d8e-9651451fde54",
   "metadata": {},
   "outputs": [
    {
     "name": "stdout",
     "output_type": "stream",
     "text": [
      "  0.453376 seconds (2.50 M allocations: 221.252 MiB, 12.86% gc time)\n"
     ]
    },
    {
     "data": {
      "text/plain": [
       "514229"
      ]
     },
     "metadata": {},
     "output_type": "display_data"
    }
   ],
   "source": [
    "using LinearAlgebra\n",
    "\n",
    "A = [0 1\n",
    "    1 1]\n",
    "\n",
    "function nao_fechada(n)\n",
    "\n",
    "    A = [0 1\n",
    "    1 1]\n",
    "    inicio = [0;1]\n",
    "    for i in 1:(n-1)\n",
    "        inicio = A*inicio\n",
    "    end\n",
    "    \n",
    "    return inicio[1]\n",
    "end\n",
    "\n",
    "# for i in 1:13\n",
    "#     display(nao_fechada(i))\n",
    "# end\n",
    "\n",
    "function fechada(n)\n",
    "    \n",
    "    A = [ 0 1 ; 1 1]\n",
    "    avl,avt = eigen(A)\n",
    "    c = avt\\([ 0 ; 1])\n",
    "    resultado = c[1]*(avl[1]^n)*avt[:,1] + c[2]*(avl[2]^n)*avt[:,2]\n",
    "    \n",
    "    return resultado[1]\n",
    "    \n",
    "end\n",
    "\n",
    "@time begin\n",
    "for i in 1:100000\n",
    "    # nao_fechada(i)\n",
    "    fechada(i)\n",
    "end\n",
    "end\n",
    "display(nao_fechada(30))"
   ]
  },
  {
   "cell_type": "code",
   "execution_count": 60,
   "id": "69bf1c66-223b-44b1-939e-c551873c0a9e",
   "metadata": {},
   "outputs": [
    {
     "data": {
      "text/plain": [
       "Eigen{Float64, Float64, Matrix{Float64}, Vector{Float64}}\n",
       "values:\n",
       "3-element Vector{Float64}:\n",
       " -0.1666666666666653\n",
       "  0.33333333333333337\n",
       "  0.9999999999999948\n",
       "vectors:\n",
       "3×3 Matrix{Float64}:\n",
       " -0.333333   0.212      0.0\n",
       "  0.666667  -0.635999  -0.707107\n",
       " -0.666667   0.741999   0.707107"
      ]
     },
     "execution_count": 60,
     "metadata": {},
     "output_type": "execute_result"
    }
   ],
   "source": [
    "A = [-4 18 18\n",
    "    14 -37 -40\n",
    "    -14 42 45]\n",
    "I3 = Matrix(I,3,3)\n",
    "eigen(A)\n",
    "\n",
    "eigen(inv(A - 2*I3))"
   ]
  },
  {
   "cell_type": "code",
   "execution_count": 78,
   "id": "b6962cb1-4292-459e-aa93-6c6acbe89176",
   "metadata": {
    "scrolled": true
   },
   "outputs": [
    {
     "data": {
      "text/plain": [
       "0.7654338952290286"
      ]
     },
     "execution_count": 78,
     "metadata": {},
     "output_type": "execute_result"
    }
   ],
   "source": [
    "#exercicio 33\n",
    "V = zeros(3,3)\n",
    "x = [30,45,60]\n",
    "y = [sqrt(3)/2 ; sqrt(2)/2 ; 1/2]\n",
    "for i in 1:3\n",
    "    V[i,:] = [ 1; x[i]^1 ;x[i]^2 ]\n",
    "end\n",
    "c = V\\y\n",
    "aprx = [ 1; 40 ; 40^2]\n",
    "aprx' *  c"
   ]
  },
  {
   "cell_type": "code",
   "execution_count": 95,
   "id": "0c7a80ff-5238-4253-897e-004cc8d8db2a",
   "metadata": {},
   "outputs": [
    {
     "data": {
      "text/plain": [
       "10.039037288588474"
      ]
     },
     "execution_count": 95,
     "metadata": {},
     "output_type": "execute_result"
    }
   ],
   "source": [
    "#exercicio 34\n",
    "\n",
    "A = [ 1 log(2);\n",
    "    1 log(4);\n",
    "    1 log(6)]\n",
    "b = [log(1);log(4);log(11)]\n",
    "cs = A\\b\n",
    "c1 = exp(cs[1])\n",
    "c2 = cs[2]\n",
    "\n",
    "c1*(5^c2)+3"
   ]
  },
  {
   "cell_type": "code",
   "execution_count": 98,
   "id": "608521bc-ff1a-44aa-98e7-b4cabc90cfb3",
   "metadata": {},
   "outputs": [
    {
     "data": {
      "text/plain": [
       "3-element Vector{Float64}:\n",
       " -1.3333333333333333\n",
       "  1.5\n",
       " -0.16666666666666669"
      ]
     },
     "execution_count": 98,
     "metadata": {},
     "output_type": "execute_result"
    }
   ],
   "source": [
    "#exercicio 35\n",
    "V = zeros(3,3)\n",
    "x = [1,2,4]\n",
    "y = [0;1;2]\n",
    "for i in 1:3\n",
    "    V[i,:] = [ 1; x[i]^1 ;x[i]^2 ]\n",
    "end\n",
    "c  = V\\y"
   ]
  }
 ],
 "metadata": {
  "kernelspec": {
   "display_name": "Julia 1.9.3",
   "language": "julia",
   "name": "julia-1.9"
  },
  "language_info": {
   "file_extension": ".jl",
   "mimetype": "application/julia",
   "name": "julia",
   "version": "1.9.3"
  }
 },
 "nbformat": 4,
 "nbformat_minor": 5
}
