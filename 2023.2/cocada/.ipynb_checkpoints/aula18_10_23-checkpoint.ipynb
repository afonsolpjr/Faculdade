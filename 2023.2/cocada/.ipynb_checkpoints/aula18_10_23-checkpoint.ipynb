{
 "cells": [
  {
   "cell_type": "code",
   "execution_count": 216,
   "id": "83c26d31-7481-4b8b-9a23-ea4785c09c5d",
   "metadata": {},
   "outputs": [
    {
     "data": {
      "text/plain": [
       "iterativo_diag (generic function with 1 method)"
      ]
     },
     "execution_count": 216,
     "metadata": {},
     "output_type": "execute_result"
    }
   ],
   "source": [
    "using LinearAlgebra\n",
    "\n",
    "function normalize(v)\n",
    "    return (v/(norm(v)))\n",
    "end\n",
    "\n",
    "function distancia(a,b)\n",
    "    return norm(a-b)\n",
    "end\n",
    "function iterativo(inicio,k,mt)\n",
    "    #matriz de transformaçao:\n",
    "    resultado = normalize(inicio)\n",
    "    for i in 1:k\n",
    "        resultado = normalize(mt * resultado)\n",
    "        if(i%100==0)\n",
    "            print(\"\\n Ano \",i,\" = \" ,resultado)\n",
    "        end    \n",
    "    end\n",
    "    av,w = eigen(mt)\n",
    "    l,c=size(w)\n",
    "    display(w)\n",
    "    display(av)\n",
    "    for i in 1:c\n",
    "        print(\"\\nDistancias para autovetor\",i,\": \",distancia(resultado,w[:,i]))\n",
    "    end\n",
    "end\n",
    "\n",
    "function iterativo_diag(inicio,k,mt)\n",
    "    autovalores,W = eigen(mt)\n",
    "    inversa = inv(W)\n",
    "    d = Diagonal(autovalores)\n",
    "    coef = W\\inicio\n",
    "    resultado = W*(d^k)*coef\n",
    "    print(\"\\nPor diagonalização, (k= \",k,\")\",resultado,)\n",
    "    \n",
    "end\n"
   ]
  },
  {
   "cell_type": "code",
   "execution_count": 217,
   "id": "b031034c-4328-4003-9e90-df9f919dda5f",
   "metadata": {},
   "outputs": [
    {
     "name": "stdout",
     "output_type": "stream",
     "text": [
      "\n",
      " Ano 100 = [0.9942952144348914, -0.10666314523711186]\n",
      " Ano 200 = [0.9942952144348914, -0.10666314523711186]\n",
      " Ano 300 = [0.9942952144348914, -0.10666314523711186]"
     ]
    },
    {
     "data": {
      "text/plain": [
       "2×2 Matrix{Float64}:\n",
       " -0.994295  -0.306352\n",
       "  0.106663  -0.951918"
      ]
     },
     "metadata": {},
     "output_type": "display_data"
    },
    {
     "data": {
      "text/plain": [
       "2-element Vector{Float64}:\n",
       " -7.3218253804964775\n",
       "  2.3218253804964775"
      ]
     },
     "metadata": {},
     "output_type": "display_data"
    },
    {
     "name": "stdout",
     "output_type": "stream",
     "text": [
      "\n",
      "Distancias para autovetor1: 2.0\n",
      "Distancias para autovetor2: 1.5511732546860932\n",
      "Por diagonalização, (k= 300)[1.5937168063554137e259, -1.7096617253632068e258]"
     ]
    }
   ],
   "source": [
    "\n",
    "k=300\n",
    "vetor_inicial = [ 1;1]\n",
    "mt = [ -7 3;1 2]\n",
    "\n",
    "iterativo(vetor_inicial,k,mt)\n",
    "\n",
    "iterativo_diag(vetor_inicial,k,mt)"
   ]
  },
  {
   "cell_type": "code",
   "execution_count": null,
   "id": "72e57a98-9880-46bf-87b8-e483805d779e",
   "metadata": {},
   "outputs": [],
   "source": []
  }
 ],
 "metadata": {
  "kernelspec": {
   "display_name": "Julia 1.9.3",
   "language": "julia",
   "name": "julia-1.9"
  },
  "language_info": {
   "file_extension": ".jl",
   "mimetype": "application/julia",
   "name": "julia",
   "version": "1.9.3"
  }
 },
 "nbformat": 4,
 "nbformat_minor": 5
}
