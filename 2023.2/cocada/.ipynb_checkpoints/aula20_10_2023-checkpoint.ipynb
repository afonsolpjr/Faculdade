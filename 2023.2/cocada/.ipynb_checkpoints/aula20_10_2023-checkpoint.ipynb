{
 "cells": [
  {
   "cell_type": "code",
   "execution_count": 2,
   "id": "4e9b43d0-c355-448d-a4d5-12c944aee44c",
   "metadata": {},
   "outputs": [],
   "source": [
    "using LinearAlgebra"
   ]
  },
  {
   "cell_type": "code",
   "execution_count": 77,
   "id": "f7463096-f554-4294-8a77-ded40230aafb",
   "metadata": {},
   "outputs": [
    {
     "data": {
      "text/plain": [
       "2-element Vector{Float64}:\n",
       " 1.3329327518211062e19\n",
       " 6.664663759105524e18"
      ]
     },
     "metadata": {},
     "output_type": "display_data"
    },
    {
     "name": "stdout",
     "output_type": "stream",
     "text": [
      "0.33333333333333304"
     ]
    },
    {
     "data": {
      "text/plain": [
       "0.33333333333333315"
      ]
     },
     "execution_count": 77,
     "metadata": {},
     "output_type": "execute_result"
    }
   ],
   "source": [
    "#exercicio 42 (vampiros)\n",
    "\n",
    "\n",
    "#Seja este vetor a populaçao inicial de não-vampiros e vampiros\n",
    "p_inicial = 10000\n",
    "v_inicial = 1.2*p_inicial\n",
    "p = [ p_inicial; v_inicial]\n",
    "\n",
    "#Matriz que determina as transformações em 1 ano\n",
    "\n",
    "M = [ 1.01 0;\n",
    "    0.01 0.99]\n",
    "\n",
    "#funcao para iterar\n",
    "function itera(M,p,n)\n",
    "    resultado = p\n",
    "    for i in 1:n\n",
    "        resultado=M*resultado\n",
    "        # println(resultado)\n",
    "        # print(\"%vampiros no ano \",i,\": \",pct(resultado)*100)\n",
    "    end\n",
    "    display(resultado)\n",
    "    return resultado\n",
    "end\n",
    "\n",
    "function pct(p)\n",
    "    total = p[1]+p[2]\n",
    "    return p[2]/total\n",
    "end\n",
    "#testando\n",
    "print(pct(itera(M,p,3500)))\n",
    "\n",
    "#a porcentagem irá sempre na direção do autovetor associado ao valor >=1\n",
    "aval,avet = eigen(M)\n",
    "pct(avet[:,2])"
   ]
  },
  {
   "cell_type": "code",
   "execution_count": 91,
   "id": "e2ab8a56-e757-43fb-82e2-7821971e86c4",
   "metadata": {},
   "outputs": [
    {
     "data": {
      "text/plain": [
       "2-element Vector{Float64}:\n",
       " 16383.0\n",
       " 32767.0"
      ]
     },
     "execution_count": 91,
     "metadata": {},
     "output_type": "execute_result"
    }
   ],
   "source": [
    "#recorrencia como sistemas lineares\n",
    "# a_n2 = a_n + a_n1\n",
    "#chegar em [a_n1 ; a_n2] a partir de [a_n ; a_n1] \n",
    "M = [ 0 1 ;\n",
    "    -2 3]\n",
    "#condicao inicial\n",
    "ci = [ 0 ; 1]\n",
    "\n",
    "#formula fechada depende dos autovalores e vetores de M\n",
    "aval,avet = eigen(M)\n",
    "# e tambem dos coeficientes da decomposicao da condicao inicial pelos autovetores\n",
    "coefs = avet\\ci\n",
    "\n",
    "#funcao que determinará a_n1 ; a_n2\n",
    "# seguindo a logica acima\n",
    "function ffechada(M,ci,n)\n",
    "    aval,avet = eigen(M)\n",
    "    coefs = avet\\ci\n",
    "    return ( (aval[1]^n)*coefs[1]*avet[:,1] + (aval[2]^n)*coefs[2]*avet[:,2] )\n",
    "end\n",
    "\n",
    "ffechada(M,ci,14)\n"
   ]
  },
  {
   "cell_type": "code",
   "execution_count": null,
   "id": "ba898285-ea3f-4835-b2a5-fa3f92594cd2",
   "metadata": {},
   "outputs": [],
   "source": []
  }
 ],
 "metadata": {
  "kernelspec": {
   "display_name": "Julia 1.9.3",
   "language": "julia",
   "name": "julia-1.9"
  },
  "language_info": {
   "file_extension": ".jl",
   "mimetype": "application/julia",
   "name": "julia",
   "version": "1.9.3"
  }
 },
 "nbformat": 4,
 "nbformat_minor": 5
}
