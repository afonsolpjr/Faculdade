{
 "cells": [
  {
   "cell_type": "code",
   "execution_count": 189,
   "id": "7e54b65f-9e37-47b3-848b-8605ef7d9b5a",
   "metadata": {},
   "outputs": [],
   "source": [
    "import numpy.random as random\n",
    "import numpy as np\n",
    "import math \n",
    "\n",
    "def lanca_dado():\n",
    "    return random.randint(1,high=7)\n",
    "\n",
    "def media(dados):\n",
    "    sum = 0\n",
    "    for i in dados:\n",
    "        sum+=i\n",
    "    return sum/(len(dados))\n",
    "\n",
    "def variancia(dados,avg=False):\n",
    "    if not avg:\n",
    "        avg = media(dados)\n",
    "    dist_q = [ (x - avg)**2 for x in dados]\n",
    "    return media(dist_q)\n",
    "\n",
    "for i in [2**x for x in range(63)]:\n",
    "    lancamentos = [lanca_dado() for x in range(n)]\n",
    "    avg = media(lancamentos)\n",
    "\n",
    "\n",
    "#definindo a probabilidade de uma variavel aleatoria poisson ser igual a x, dado o lambda\n",
    "def poisson(lbd,x):\n",
    "    return (math.e**(-lbd))*(lbd**x)/math.factorial(x)\n",
    "\n",
    "#retorna, para uma variavel aleatoria de poisson, a chance da VA ser <= x \n",
    "def fpa_poisson(lbd,x):\n",
    "    p = math.e**(-lbd)\n",
    "    acc = p\n",
    "    for i in range(1,x+1):\n",
    "        p = (lbd/i) * p\n",
    "        acc+=p\n",
    "    return acc\n",
    "        "
   ]
  },
  {
   "cell_type": "code",
   "execution_count": 211,
   "id": "1b5e0c16-158d-42c3-a9d0-eff1367c2a2f",
   "metadata": {},
   "outputs": [
    {
     "name": "stdout",
     "output_type": "stream",
     "text": [
      "1.6449340668482264 1.6448340718480596\n"
     ]
    },
    {
     "data": {
      "text/plain": [
       "0.3799037410783732"
      ]
     },
     "execution_count": 211,
     "metadata": {},
     "output_type": "execute_result"
    }
   ],
   "source": [
    "import math\n",
    "def zeta(s,n_termos):\n",
    "    acc = 0\n",
    "    for t in range(n_termos,0,-1):\n",
    "        acc += t**(-s)\n",
    "    return acc\n",
    "\n",
    "    \n",
    "\n",
    "\n",
    "print((math.pi**2)/6 ,zeta(2,10000))\n",
    "fpa_poisson(3.2,2)"
   ]
  },
  {
   "cell_type": "code",
   "execution_count": 220,
   "id": "09c5a89d-fd5a-4674-b939-72c49a6e1399",
   "metadata": {},
   "outputs": [
    {
     "name": "stdout",
     "output_type": "stream",
     "text": [
      "0.4678964236252844\n",
      "chance de ser > 0 0.9888910034617577\n",
      "chance de ser > 1 0.9389005190396673\n",
      "chance de ser > 2 0.8264219290899639\n",
      "chance de ser > 3 0.6577040441654088\n",
      "chance de ser > 4 0.4678964236252844\n",
      "chance de ser > 5 0.2970695651391724\n",
      "chance de ser > 6 0.16894942127458834\n",
      "chance de ser > 7 0.08658647164735578\n",
      "chance de ser > 8 0.040257312482037455\n",
      "chance de ser > 9 0.017092732899378293\n",
      "chance do prof errar =  0.4231900811268436\n"
     ]
    }
   ],
   "source": [
    "\n",
    "#Continuando no exemplo inicial, onde uma loja recebe em média 4,5\n",
    "# consumidores por hora.\n",
    "\n",
    "# Qual a probabilidade da loja receber mais de 4 consumidores em\n",
    "# um intervalo de uma hora?\n",
    "print(1 - fpa_poisson(4.5,4))\n",
    "# Em um intervalo de uma hora, dado que a loja já recebeu 3\n",
    "# consumidores, qual a probabilidade dela receber pelo menos mais\n",
    "# dois?\n",
    "pm3 = 1 - fpa_poisson(4.5,2) \n",
    "# Com 99% de certeza, qual o numero máximo de consumidores que\n",
    "# entrar ̃ao na loja em um intervalo de uma hora?\n",
    "\n",
    "#seja M o numero maximo, para termos 99% de certeza de M é o maximo, a chance da VA  ser ( > M ) precisa ser <= 0.01\n",
    "p = 0\n",
    "n=0\n",
    "while((1-fpa_poisson(4.5,n))> 0.01):\n",
    "    print(\"chance de ser > {}\".format(n),1-fpa_poisson(4.5,n))\n",
    "    n+=1\n",
    "\n",
    "\n",
    "#Professor de basquete errar:\n",
    "print(\"chance do prof errar = \",fpa_poisson(3,2))"
   ]
  },
  {
   "cell_type": "code",
   "execution_count": 206,
   "id": "f2252934-0e2b-439e-b6c5-1d3e8db4c82b",
   "metadata": {},
   "outputs": [
    {
     "data": {
      "text/plain": [
       "0.4678964236252844"
      ]
     },
     "execution_count": 206,
     "metadata": {},
     "output_type": "execute_result"
    }
   ],
   "source": []
  }
 ],
 "metadata": {
  "kernelspec": {
   "display_name": "Python 3 (ipykernel)",
   "language": "python",
   "name": "python3"
  },
  "language_info": {
   "codemirror_mode": {
    "name": "ipython",
    "version": 3
   },
   "file_extension": ".py",
   "mimetype": "text/x-python",
   "name": "python",
   "nbconvert_exporter": "python",
   "pygments_lexer": "ipython3",
   "version": "3.10.12"
  }
 },
 "nbformat": 4,
 "nbformat_minor": 5
}
